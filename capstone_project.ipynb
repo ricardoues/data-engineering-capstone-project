{
 "cells": [
  {
   "cell_type": "markdown",
   "metadata": {},
   "source": [
    "### Data Engineering Capstone Project\n",
    "\n",
    "#### Project Summary\n",
    "The goal of this project is to create a data pipeline that provides a clean relational database that will be used for a data visualization of the number of yellow taxi trips, green taxi trips, uber taxi trips and lyft taxi from February to June 2020 along with the case count of COVID-19 in New York city .\n",
    "\n",
    "The project follows the follow steps:\n",
    "* Step 1: Scope the Project and Gather Data\n",
    "* Step 2: Explore and Assess the Data\n",
    "* Step 3: Define the Data Model\n",
    "* Step 4: Run ETL to Model the Data\n",
    "* Step 5: Complete Project Write Up"
   ]
  },
  {
   "cell_type": "code",
   "execution_count": 1,
   "metadata": {},
   "outputs": [
    {
     "data": {
      "application/vnd.jupyter.widget-view+json": {
       "model_id": "27563c98aa7a42798345810f3f660f7e",
       "version_major": 2,
       "version_minor": 0
      },
      "text/plain": [
       "VBox()"
      ]
     },
     "metadata": {},
     "output_type": "display_data"
    },
    {
     "name": "stdout",
     "output_type": "stream",
     "text": [
      "Starting Spark application\n"
     ]
    },
    {
     "data": {
      "text/html": [
       "<table>\n",
       "<tr><th>ID</th><th>YARN Application ID</th><th>Kind</th><th>State</th><th>Spark UI</th><th>Driver log</th><th>Current session?</th></tr><tr><td>1</td><td>application_1599341779313_0021</td><td>pyspark</td><td>idle</td><td><a target=\"_blank\" href=\"http://ip-172-31-45-158.ec2.internal:20888/proxy/application_1599341779313_0021/\">Link</a></td><td><a target=\"_blank\" href=\"http://ip-172-31-32-30.ec2.internal:8042/node/containerlogs/container_1599341779313_0021_01_000001/livy\">Link</a></td><td>✔</td></tr></table>"
      ],
      "text/plain": [
       "<IPython.core.display.HTML object>"
      ]
     },
     "metadata": {},
     "output_type": "display_data"
    },
    {
     "data": {
      "application/vnd.jupyter.widget-view+json": {
       "model_id": "",
       "version_major": 2,
       "version_minor": 0
      },
      "text/plain": [
       "FloatProgress(value=0.0, bar_style='info', description='Progress:', layout=Layout(height='25px', width='50%'),…"
      ]
     },
     "metadata": {},
     "output_type": "display_data"
    },
    {
     "name": "stdout",
     "output_type": "stream",
     "text": [
      "SparkSession available as 'spark'.\n"
     ]
    },
    {
     "data": {
      "application/vnd.jupyter.widget-view+json": {
       "model_id": "",
       "version_major": 2,
       "version_minor": 0
      },
      "text/plain": [
       "FloatProgress(value=0.0, bar_style='info', description='Progress:', layout=Layout(height='25px', width='50%'),…"
      ]
     },
     "metadata": {},
     "output_type": "display_data"
    }
   ],
   "source": [
    "import configparser\n",
    "from datetime import datetime\n",
    "import os\n",
    "from pyspark.sql import SparkSession\n",
    "from pyspark.sql.functions import udf, col\n",
    "from pyspark.sql.functions import year, month, dayofmonth, hour, weekofyear, date_format, from_unixtime, unix_timestamp, to_date, lit\n",
    "import pandas as pd\n",
    "from pyspark.sql.types import IntegerType\n",
    "from pyspark.sql.types import TimestampType\n",
    "from pyspark.sql.types import DateType\n",
    "from pyspark.sql.types import DoubleType\n",
    "from pyspark.sql.functions import from_unixtime            \n",
    "import pyspark.sql.functions as F"
   ]
  },
  {
   "cell_type": "markdown",
   "metadata": {},
   "source": [
    "### Step 1: Scope the Project and Gather Data\n",
    "\n",
    "#### Scope \n",
    "Explain what you plan to do in the project in more detail. What data do you use? What is your end solution look like? What tools did you use? etc>\n",
    "\n",
    "The goal of this project is to create a data pipeline that provides a clean relational database that will be used for a data visualization of the number of yellow taxi trips, green taxi trips, uber taxi trips and lyft taxi from February to June 2020 along with the case count of COVID-19 in New York city. We think that the data visualization could bring insights to the data and this approach can be extended to other economic activities. \n",
    "\n",
    "We used Apache Spark for building the data pipeline and saved the clean data in a SQLite database. \n",
    "\n",
    "#### Describe and Gather Data \n",
    "Describe the data sets you're using. Where did it come from? What type of information is included? \n",
    "\n",
    "\n",
    "The data that we are going to use comes from the following web sites:\n",
    "\n",
    "[TLC Trip Record Data](https://www1.nyc.gov/site/tlc/about/tlc-trip-record-data.page)\n",
    "\n",
    "\"The yellow taxi trip records include fields capturing pick-up and drop-off dates/times, pick-up and drop-off locations, trip distances, itemized fares, rate types, payment types, and driver-reported passenger counts. This dataset is provided by NYC Taxi and Limousine Commission\". \n",
    "\n",
    "[NYC Department of Health and Mental Hygiene](https://github.com/nychealth/coronavirus-data)\n",
    "\n",
    "From the above repository we used only the file case-hosp-death.csv which contains daily counts of confirmed cases, hospitalizations, and deaths.\n",
    "\n",
    "In order to download the data we used the bash script download.sh which contains the \n",
    "following code:\n",
    "\n",
    "```bash\n",
    "#!/bin/bash\n",
    "\n",
    "echo \"Downloading yellow trip data\"\n",
    "for i in {2..6}; \n",
    "do\n",
    "    wget  https://s3.amazonaws.com/nyc-tlc/trip+data/yellow_tripdata_2020-0$i.csv \n",
    "done\n",
    "\n",
    "\n",
    "echo \"Downloading green trip data\"\n",
    "for i in {2..6}; \n",
    "do\n",
    "    wget  https://s3.amazonaws.com/nyc-tlc/trip+data/green_tripdata_2020-0$i.csv \n",
    "done\n",
    "\n",
    "\n",
    "echo \"Downloading uber and lyft trip data\"\n",
    "for i in {2..6}; \n",
    "do\n",
    "    wget  https://s3.amazonaws.com/nyc-tlc/trip+data/fhvhv_tripdata_2020-0$i.csv \n",
    "done\n",
    "\n",
    "\n",
    "\n",
    "echo \"Downloading covid data\"\n",
    "wget https://raw.githubusercontent.com/nychealth/coronavirus-data/master/case-hosp-death.csv\n",
    "```\n",
    "\n",
    "This script was executed in a in a m5.xlarge AWS EC2 instance with Ubuntu Server 16.04 installed. Next, we copy the csv files to a s3 bucket using the following python script: \n",
    "\n",
    "```python\n",
    "#!/usr/bin/env python3\n",
    "\n",
    "import pandas as pd\n",
    "import boto3\n",
    "import json\n",
    "import glob\n",
    "\n",
    "import configparser\n",
    "config = configparser.ConfigParser()\n",
    "config.read_file(open('dwh.cfg'))\n",
    "\n",
    "KEY = config.get('AWS','KEY')\n",
    "SECRET = config.get('AWS','SECRET')\n",
    "\n",
    "s3 = boto3.resource('s3',\n",
    "                       region_name=\"us-west-2\",\n",
    "                       aws_access_key_id=KEY,\n",
    "                       aws_secret_access_key=SECRET\n",
    "                   )\n",
    "\n",
    "\n",
    "# The following url was very helpful \n",
    "# https://stackoverflow.com/questions/37017244/uploading-a-file-to-a-s3-bucket-with-a-prefix-using-boto3\n",
    "\n",
    "files = glob.glob(\"*.csv\")\n",
    "\n",
    "for file in files:\n",
    "   print(\"Uploading file {} to s3 bucket...\".format(file))\n",
    "   s3.meta.client.upload_file(file, \"ricrio\", file)\n",
    "\n",
    "\n",
    "```\n",
    "\n",
    "The file dwh.cfg has the following structure: \n",
    "\n",
    "\n",
    "```python\n",
    "[AWS]\n",
    "KEY=put_your_access_key_id_here\n",
    "SECRET=put_your_secret_access_key_here \n",
    "```\n",
    "\n",
    "\n"
   ]
  },
  {
   "cell_type": "markdown",
   "metadata": {},
   "source": [
    "Next, we will read the datasets from s3, the total size of the datasets is 4.3 GB."
   ]
  },
  {
   "cell_type": "code",
   "execution_count": 2,
   "metadata": {},
   "outputs": [
    {
     "data": {
      "application/vnd.jupyter.widget-view+json": {
       "model_id": "ce4bd21c76e2491e8a83b1e9f56c61c8",
       "version_major": 2,
       "version_minor": 0
      },
      "text/plain": [
       "VBox()"
      ]
     },
     "metadata": {},
     "output_type": "display_data"
    },
    {
     "data": {
      "application/vnd.jupyter.widget-view+json": {
       "model_id": "",
       "version_major": 2,
       "version_minor": 0
      },
      "text/plain": [
       "FloatProgress(value=0.0, bar_style='info', description='Progress:', layout=Layout(height='25px', width='50%'),…"
      ]
     },
     "metadata": {},
     "output_type": "display_data"
    }
   ],
   "source": [
    "# the following code does not work.\n",
    "#config = configparser.ConfigParser()\n",
    "#config.read('dl.cfg')\n",
    "\n",
    "\n",
    "#os.environ['AWS_ACCESS_KEY_ID']=config['AWS']['AWS_ACCESS_KEY_ID']\n",
    "#os.environ['AWS_SECRET_ACCESS_KEY']=config['AWS']['AWS_SECRET_ACCESS_KEY']\n",
    "\n",
    "os.environ['AWS_ACCESS_KEY_ID']=\"put_your_credentials_here\"\n",
    "os.environ['AWS_SECRET_ACCESS_KEY']=\"put_your_credentials_here\""
   ]
  },
  {
   "cell_type": "code",
   "execution_count": 3,
   "metadata": {},
   "outputs": [
    {
     "data": {
      "application/vnd.jupyter.widget-view+json": {
       "model_id": "29e8ed99e2444560ba0e441c5170f4ce",
       "version_major": 2,
       "version_minor": 0
      },
      "text/plain": [
       "VBox()"
      ]
     },
     "metadata": {},
     "output_type": "display_data"
    },
    {
     "data": {
      "application/vnd.jupyter.widget-view+json": {
       "model_id": "",
       "version_major": 2,
       "version_minor": 0
      },
      "text/plain": [
       "FloatProgress(value=0.0, bar_style='info', description='Progress:', layout=Layout(height='25px', width='50%'),…"
      ]
     },
     "metadata": {},
     "output_type": "display_data"
    }
   ],
   "source": [
    "# This code is not neccesary since that the spark session variable is already available. \n",
    "#spark = SparkSession \\\n",
    "#        .builder \\\n",
    "#        .config(\"spark.jars.packages\", \"org.apache.hadoop:hadoop-aws:2.7.0\") \\\n",
    "#        .getOrCreate()"
   ]
  },
  {
   "cell_type": "code",
   "execution_count": 4,
   "metadata": {},
   "outputs": [
    {
     "data": {
      "application/vnd.jupyter.widget-view+json": {
       "model_id": "a92d78ccc0844a4192ab1d3116b7db1a",
       "version_major": 2,
       "version_minor": 0
      },
      "text/plain": [
       "VBox()"
      ]
     },
     "metadata": {},
     "output_type": "display_data"
    },
    {
     "data": {
      "application/vnd.jupyter.widget-view+json": {
       "model_id": "",
       "version_major": 2,
       "version_minor": 0
      },
      "text/plain": [
       "FloatProgress(value=0.0, bar_style='info', description='Progress:', layout=Layout(height='25px', width='50%'),…"
      ]
     },
     "metadata": {},
     "output_type": "display_data"
    }
   ],
   "source": [
    "# we read the yellow trip data which is in a s3 bucket. \n",
    "df_spark_yellow_taxi = spark.read.csv(\"s3a://ricrio/yellow_tripdata_*\", header=True)"
   ]
  },
  {
   "cell_type": "code",
   "execution_count": 5,
   "metadata": {},
   "outputs": [
    {
     "data": {
      "application/vnd.jupyter.widget-view+json": {
       "model_id": "9b803a9fcdb349109b97e8c4c092766a",
       "version_major": 2,
       "version_minor": 0
      },
      "text/plain": [
       "VBox()"
      ]
     },
     "metadata": {},
     "output_type": "display_data"
    },
    {
     "data": {
      "application/vnd.jupyter.widget-view+json": {
       "model_id": "",
       "version_major": 2,
       "version_minor": 0
      },
      "text/plain": [
       "FloatProgress(value=0.0, bar_style='info', description='Progress:', layout=Layout(height='25px', width='50%'),…"
      ]
     },
     "metadata": {},
     "output_type": "display_data"
    }
   ],
   "source": [
    "df_spark_green_taxi = spark.read.csv(\"s3a://ricrio/green_tripdata_*\", header=True)"
   ]
  },
  {
   "cell_type": "code",
   "execution_count": 6,
   "metadata": {},
   "outputs": [
    {
     "data": {
      "application/vnd.jupyter.widget-view+json": {
       "model_id": "4d974bd43f6e4f29bb4ff4fedd675e93",
       "version_major": 2,
       "version_minor": 0
      },
      "text/plain": [
       "VBox()"
      ]
     },
     "metadata": {},
     "output_type": "display_data"
    },
    {
     "data": {
      "application/vnd.jupyter.widget-view+json": {
       "model_id": "",
       "version_major": 2,
       "version_minor": 0
      },
      "text/plain": [
       "FloatProgress(value=0.0, bar_style='info', description='Progress:', layout=Layout(height='25px', width='50%'),…"
      ]
     },
     "metadata": {},
     "output_type": "display_data"
    }
   ],
   "source": [
    "df_spark_uber_lyft_taxi = spark.read.csv(\"s3a://ricrio/fhvhv_tripdata_*\", header=True)"
   ]
  },
  {
   "cell_type": "code",
   "execution_count": 7,
   "metadata": {},
   "outputs": [
    {
     "data": {
      "application/vnd.jupyter.widget-view+json": {
       "model_id": "80350a7da698406ca3d8c5804ed70544",
       "version_major": 2,
       "version_minor": 0
      },
      "text/plain": [
       "VBox()"
      ]
     },
     "metadata": {},
     "output_type": "display_data"
    },
    {
     "data": {
      "application/vnd.jupyter.widget-view+json": {
       "model_id": "",
       "version_major": 2,
       "version_minor": 0
      },
      "text/plain": [
       "FloatProgress(value=0.0, bar_style='info', description='Progress:', layout=Layout(height='25px', width='50%'),…"
      ]
     },
     "metadata": {},
     "output_type": "display_data"
    }
   ],
   "source": [
    "df_spark_covid = spark.read.csv(\"s3://ricrio/case-hosp-death.csv\", header=True)"
   ]
  },
  {
   "cell_type": "markdown",
   "metadata": {},
   "source": [
    "### Step 2: Explore and Assess the Data\n",
    "#### Explore and cleaning the Data \n",
    "Identify data quality issues, like missing values, duplicate data, etc.\n",
    "\n",
    "First of all, we will explore the yellow taxi trips dataset.\n",
    "\n",
    "##### Yellow taxi trips dataset\n"
   ]
  },
  {
   "cell_type": "code",
   "execution_count": 8,
   "metadata": {},
   "outputs": [
    {
     "data": {
      "application/vnd.jupyter.widget-view+json": {
       "model_id": "708df81d4189468fa0302c9024167528",
       "version_major": 2,
       "version_minor": 0
      },
      "text/plain": [
       "VBox()"
      ]
     },
     "metadata": {},
     "output_type": "display_data"
    },
    {
     "data": {
      "application/vnd.jupyter.widget-view+json": {
       "model_id": "",
       "version_major": 2,
       "version_minor": 0
      },
      "text/plain": [
       "FloatProgress(value=0.0, bar_style='info', description='Progress:', layout=Layout(height='25px', width='50%'),…"
      ]
     },
     "metadata": {},
     "output_type": "display_data"
    },
    {
     "name": "stdout",
     "output_type": "stream",
     "text": [
      "root\n",
      " |-- VendorID: string (nullable = true)\n",
      " |-- tpep_pickup_datetime: string (nullable = true)\n",
      " |-- tpep_dropoff_datetime: string (nullable = true)\n",
      " |-- passenger_count: string (nullable = true)\n",
      " |-- trip_distance: string (nullable = true)\n",
      " |-- RatecodeID: string (nullable = true)\n",
      " |-- store_and_fwd_flag: string (nullable = true)\n",
      " |-- PULocationID: string (nullable = true)\n",
      " |-- DOLocationID: string (nullable = true)\n",
      " |-- payment_type: string (nullable = true)\n",
      " |-- fare_amount: string (nullable = true)\n",
      " |-- extra: string (nullable = true)\n",
      " |-- mta_tax: string (nullable = true)\n",
      " |-- tip_amount: string (nullable = true)\n",
      " |-- tolls_amount: string (nullable = true)\n",
      " |-- improvement_surcharge: string (nullable = true)\n",
      " |-- total_amount: string (nullable = true)\n",
      " |-- congestion_surcharge: string (nullable = true)"
     ]
    }
   ],
   "source": [
    "df_spark_yellow_taxi.printSchema()"
   ]
  },
  {
   "cell_type": "markdown",
   "metadata": {},
   "source": [
    "The printSchema method shows that there are 17 variables, all the variables are interpreted as strings by default."
   ]
  },
  {
   "cell_type": "code",
   "execution_count": 9,
   "metadata": {},
   "outputs": [
    {
     "data": {
      "application/vnd.jupyter.widget-view+json": {
       "model_id": "c4cf87454372481aaabefe1075e04045",
       "version_major": 2,
       "version_minor": 0
      },
      "text/plain": [
       "VBox()"
      ]
     },
     "metadata": {},
     "output_type": "display_data"
    },
    {
     "data": {
      "application/vnd.jupyter.widget-view+json": {
       "model_id": "",
       "version_major": 2,
       "version_minor": 0
      },
      "text/plain": [
       "FloatProgress(value=0.0, bar_style='info', description='Progress:', layout=Layout(height='25px', width='50%'),…"
      ]
     },
     "metadata": {},
     "output_type": "display_data"
    },
    {
     "name": "stdout",
     "output_type": "stream",
     "text": [
      "10442770"
     ]
    }
   ],
   "source": [
    "df_spark_yellow_taxi.count()"
   ]
  },
  {
   "cell_type": "markdown",
   "metadata": {},
   "source": [
    "There are nearly ten million and a half of rows. "
   ]
  },
  {
   "cell_type": "code",
   "execution_count": 10,
   "metadata": {},
   "outputs": [
    {
     "data": {
      "application/vnd.jupyter.widget-view+json": {
       "model_id": "4f3df82ea1b7472f97cf90065fc4ccbd",
       "version_major": 2,
       "version_minor": 0
      },
      "text/plain": [
       "VBox()"
      ]
     },
     "metadata": {},
     "output_type": "display_data"
    },
    {
     "data": {
      "application/vnd.jupyter.widget-view+json": {
       "model_id": "",
       "version_major": 2,
       "version_minor": 0
      },
      "text/plain": [
       "FloatProgress(value=0.0, bar_style='info', description='Progress:', layout=Layout(height='25px', width='50%'),…"
      ]
     },
     "metadata": {},
     "output_type": "display_data"
    },
    {
     "name": "stdout",
     "output_type": "stream",
     "text": [
      "[Row(VendorID='1', tpep_pickup_datetime='2020-02-01 00:17:35', tpep_dropoff_datetime='2020-02-01 00:30:32', passenger_count='1', trip_distance='2.60', RatecodeID='1', store_and_fwd_flag='N', PULocationID='145', DOLocationID='7', payment_type='1', fare_amount='11', extra='0.5', mta_tax='0.5', tip_amount='2.45', tolls_amount='0', improvement_surcharge='0.3', total_amount='14.75', congestion_surcharge='0'), Row(VendorID='1', tpep_pickup_datetime='2020-02-01 00:32:47', tpep_dropoff_datetime='2020-02-01 01:05:36', passenger_count='1', trip_distance='4.80', RatecodeID='1', store_and_fwd_flag='N', PULocationID='45', DOLocationID='61', payment_type='1', fare_amount='21.5', extra='3', mta_tax='0.5', tip_amount='6.3', tolls_amount='0', improvement_surcharge='0.3', total_amount='31.6', congestion_surcharge='2.5'), Row(VendorID='1', tpep_pickup_datetime='2020-02-01 00:31:44', tpep_dropoff_datetime='2020-02-01 00:43:28', passenger_count='1', trip_distance='3.20', RatecodeID='1', store_and_fwd_flag='N', PULocationID='186', DOLocationID='140', payment_type='1', fare_amount='11', extra='3', mta_tax='0.5', tip_amount='1', tolls_amount='0', improvement_surcharge='0.3', total_amount='15.8', congestion_surcharge='2.5'), Row(VendorID='2', tpep_pickup_datetime='2020-02-01 00:07:35', tpep_dropoff_datetime='2020-02-01 00:31:39', passenger_count='1', trip_distance='4.38', RatecodeID='1', store_and_fwd_flag='N', PULocationID='144', DOLocationID='140', payment_type='1', fare_amount='18', extra='0.5', mta_tax='0.5', tip_amount='3', tolls_amount='0', improvement_surcharge='0.3', total_amount='24.8', congestion_surcharge='2.5'), Row(VendorID='2', tpep_pickup_datetime='2020-02-01 00:51:43', tpep_dropoff_datetime='2020-02-01 01:01:29', passenger_count='1', trip_distance='2.28', RatecodeID='1', store_and_fwd_flag='N', PULocationID='238', DOLocationID='152', payment_type='2', fare_amount='9.5', extra='0.5', mta_tax='0.5', tip_amount='0', tolls_amount='0', improvement_surcharge='0.3', total_amount='10.8', congestion_surcharge='0')]"
     ]
    }
   ],
   "source": [
    "df_spark_yellow_taxi.take(5)"
   ]
  },
  {
   "cell_type": "markdown",
   "metadata": {},
   "source": [
    "We get the 5 first rows of the dataframe. The data dictionary is shown as follows:\n",
    "\n",
    "\n",
    "| Field Name            | Description                                                                                                                                                                                                                                               |\n",
    "|-----------------------|-----------------------------------------------------------------------------------------------------------------------------------------------------------------------------------------------------------------------------------------------------------|\n",
    "| VendorID              | A code indicating the TPEP provider that provided the record. 1= Creative Mobile Technologies, LLC; 2= VeriFone Inc.                                                                                                                                      |\n",
    "| tpep_pickup_datetime  | The date and time when the meter was engaged.                                                                                                                                                                                                             |\n",
    "| tpep_dropoff_datetime | The date and time when the meter was disengaged.                                                                                                                                                                                                          |\n",
    "| Passenger_count       | The number of passengers in the vehicle. This is a driver-entered value                                                                                                                                                                                   |\n",
    "| Trip_distance         | The elapsed trip distance in miles reported by the taximeter.                                                                                                                                                                                             |\n",
    "| PULocationID          | TLC Taxi Zone in which the taximeter was engaged                                                                                                                                                                                                          |\n",
    "| DOLocationID          | TLC Taxi Zone in which the taximeter was disengaged                                                                                                                                                                                                       |\n",
    "| RateCodeID            | The final rate code in effect at the end of the trip.  1= Standard rate 2=JFK 3=Newark 4=Nassau or Westchester 5=Negotiated fare 6=Group ride                                                                                                             |\n",
    "| Store_and_fwd_flag    | This flag indicates whether the trip record was held in vehicle   memory before sending to the vendor, aka “store and forward,”   because the vehicle did not have a connection to the server.  Y=store and forward trip  N= not a store and forward trip |\n",
    "| Payment_type          | A numeric code signifying how the passenger paid for the trip.    1= Credit card  2= Cash  3= No charge  4= Dispute  5= Unknown  6= Voided trip                                                                                                           |\n",
    "| Fare_amount           | The time-and-distance fare calculated by the meter.                                                                                                                                                                                                       |\n",
    "| Extra                 | Miscellaneous extras and surcharges.  Currently, this only includes the 0.50 and 1 rush hour and overnight charges      |\n",
    "| MTA_tax               | \\$0.50 MTA tax that is automatically triggered based on the metered rate in use.                                                                                                                                                                           |\n",
    "| Improvement_surcharge | \\$0.30 improvement surcharge assessed trips at the flag drop.The improvement surcharge began being levied in 2015.                                                                                                                                         |\n",
    "| Tip_amount            | Tip amount –This field is automatically populated for credit card tips. Cash tips are not included.                                                                                                                                                       |\n",
    "| Tolls_amount          | Total amount of all tolls paid in trip.                                                                                                                                                                                                                   |\n",
    "| Total_amount          | The total amount charged to passengers. Does not include cash tips.                                                                                                                                                                                       |\n",
    "\n",
    "\n",
    "Next, we will calculate the count of yellow taxi trips. \n"
   ]
  },
  {
   "cell_type": "code",
   "execution_count": 11,
   "metadata": {},
   "outputs": [
    {
     "data": {
      "application/vnd.jupyter.widget-view+json": {
       "model_id": "0908a49656704a30937bc8f24332d114",
       "version_major": 2,
       "version_minor": 0
      },
      "text/plain": [
       "VBox()"
      ]
     },
     "metadata": {},
     "output_type": "display_data"
    },
    {
     "data": {
      "application/vnd.jupyter.widget-view+json": {
       "model_id": "",
       "version_major": 2,
       "version_minor": 0
      },
      "text/plain": [
       "FloatProgress(value=0.0, bar_style='info', description='Progress:', layout=Layout(height='25px', width='50%'),…"
      ]
     },
     "metadata": {},
     "output_type": "display_data"
    }
   ],
   "source": [
    "df_spark_yellow_taxi_count = df_spark_yellow_taxi.select(\"tpep_pickup_datetime\")"
   ]
  },
  {
   "cell_type": "code",
   "execution_count": 12,
   "metadata": {},
   "outputs": [
    {
     "data": {
      "application/vnd.jupyter.widget-view+json": {
       "model_id": "8303d7cd51744108b0e86cde04a38cf4",
       "version_major": 2,
       "version_minor": 0
      },
      "text/plain": [
       "VBox()"
      ]
     },
     "metadata": {},
     "output_type": "display_data"
    },
    {
     "data": {
      "application/vnd.jupyter.widget-view+json": {
       "model_id": "",
       "version_major": 2,
       "version_minor": 0
      },
      "text/plain": [
       "FloatProgress(value=0.0, bar_style='info', description='Progress:', layout=Layout(height='25px', width='50%'),…"
      ]
     },
     "metadata": {},
     "output_type": "display_data"
    },
    {
     "name": "stdout",
     "output_type": "stream",
     "text": [
      "root\n",
      " |-- tpep_pickup_datetime: string (nullable = true)"
     ]
    }
   ],
   "source": [
    "df_spark_yellow_taxi_count.printSchema()"
   ]
  },
  {
   "cell_type": "markdown",
   "metadata": {},
   "source": [
    "We will change the tpep_pickup_datetime colum from string type to TimestampType type with the following code."
   ]
  },
  {
   "cell_type": "code",
   "execution_count": 13,
   "metadata": {},
   "outputs": [
    {
     "data": {
      "application/vnd.jupyter.widget-view+json": {
       "model_id": "dbe6ceaddff646e3a80d6cc27e19c1f5",
       "version_major": 2,
       "version_minor": 0
      },
      "text/plain": [
       "VBox()"
      ]
     },
     "metadata": {},
     "output_type": "display_data"
    },
    {
     "data": {
      "application/vnd.jupyter.widget-view+json": {
       "model_id": "",
       "version_major": 2,
       "version_minor": 0
      },
      "text/plain": [
       "FloatProgress(value=0.0, bar_style='info', description='Progress:', layout=Layout(height='25px', width='50%'),…"
      ]
     },
     "metadata": {},
     "output_type": "display_data"
    }
   ],
   "source": [
    "df_spark_yellow_taxi_count = df_spark_yellow_taxi_count.withColumn(\"tpep_pickup_datetime\", df_spark_yellow_taxi_count[\"tpep_pickup_datetime\"].cast(TimestampType()))"
   ]
  },
  {
   "cell_type": "code",
   "execution_count": 14,
   "metadata": {},
   "outputs": [
    {
     "data": {
      "application/vnd.jupyter.widget-view+json": {
       "model_id": "6a28291bd79944b68a2cd157fbdf6fe9",
       "version_major": 2,
       "version_minor": 0
      },
      "text/plain": [
       "VBox()"
      ]
     },
     "metadata": {},
     "output_type": "display_data"
    },
    {
     "data": {
      "application/vnd.jupyter.widget-view+json": {
       "model_id": "",
       "version_major": 2,
       "version_minor": 0
      },
      "text/plain": [
       "FloatProgress(value=0.0, bar_style='info', description='Progress:', layout=Layout(height='25px', width='50%'),…"
      ]
     },
     "metadata": {},
     "output_type": "display_data"
    },
    {
     "name": "stdout",
     "output_type": "stream",
     "text": [
      "root\n",
      " |-- tpep_pickup_datetime: timestamp (nullable = true)"
     ]
    }
   ],
   "source": [
    "df_spark_yellow_taxi_count.printSchema()"
   ]
  },
  {
   "cell_type": "code",
   "execution_count": 15,
   "metadata": {},
   "outputs": [
    {
     "data": {
      "application/vnd.jupyter.widget-view+json": {
       "model_id": "ed95617d98f749e0a8f4fe2506167b52",
       "version_major": 2,
       "version_minor": 0
      },
      "text/plain": [
       "VBox()"
      ]
     },
     "metadata": {},
     "output_type": "display_data"
    },
    {
     "data": {
      "application/vnd.jupyter.widget-view+json": {
       "model_id": "",
       "version_major": 2,
       "version_minor": 0
      },
      "text/plain": [
       "FloatProgress(value=0.0, bar_style='info', description='Progress:', layout=Layout(height='25px', width='50%'),…"
      ]
     },
     "metadata": {},
     "output_type": "display_data"
    },
    {
     "name": "stdout",
     "output_type": "stream",
     "text": [
      "[Row(tpep_pickup_datetime=datetime.datetime(2020, 2, 1, 0, 17, 35)), Row(tpep_pickup_datetime=datetime.datetime(2020, 2, 1, 0, 32, 47)), Row(tpep_pickup_datetime=datetime.datetime(2020, 2, 1, 0, 31, 44)), Row(tpep_pickup_datetime=datetime.datetime(2020, 2, 1, 0, 7, 35)), Row(tpep_pickup_datetime=datetime.datetime(2020, 2, 1, 0, 51, 43))]"
     ]
    }
   ],
   "source": [
    "df_spark_yellow_taxi_count.take(5)"
   ]
  },
  {
   "cell_type": "markdown",
   "metadata": {},
   "source": [
    "We will change the tpep_pickup_datetime colum from TimestampType type to DateType type with the following code."
   ]
  },
  {
   "cell_type": "code",
   "execution_count": 16,
   "metadata": {},
   "outputs": [
    {
     "data": {
      "application/vnd.jupyter.widget-view+json": {
       "model_id": "b0e9333d0f8c4b02a3865896ae3455ab",
       "version_major": 2,
       "version_minor": 0
      },
      "text/plain": [
       "VBox()"
      ]
     },
     "metadata": {},
     "output_type": "display_data"
    },
    {
     "data": {
      "application/vnd.jupyter.widget-view+json": {
       "model_id": "",
       "version_major": 2,
       "version_minor": 0
      },
      "text/plain": [
       "FloatProgress(value=0.0, bar_style='info', description='Progress:', layout=Layout(height='25px', width='50%'),…"
      ]
     },
     "metadata": {},
     "output_type": "display_data"
    }
   ],
   "source": [
    "df_spark_yellow_taxi_count = df_spark_yellow_taxi_count.withColumn(\"tpep_pickup_datetime\", df_spark_yellow_taxi_count[\"tpep_pickup_datetime\"].cast(DateType()))"
   ]
  },
  {
   "cell_type": "code",
   "execution_count": 17,
   "metadata": {},
   "outputs": [
    {
     "data": {
      "application/vnd.jupyter.widget-view+json": {
       "model_id": "95a220580090414f83cbb694ec94783b",
       "version_major": 2,
       "version_minor": 0
      },
      "text/plain": [
       "VBox()"
      ]
     },
     "metadata": {},
     "output_type": "display_data"
    },
    {
     "data": {
      "application/vnd.jupyter.widget-view+json": {
       "model_id": "",
       "version_major": 2,
       "version_minor": 0
      },
      "text/plain": [
       "FloatProgress(value=0.0, bar_style='info', description='Progress:', layout=Layout(height='25px', width='50%'),…"
      ]
     },
     "metadata": {},
     "output_type": "display_data"
    },
    {
     "name": "stdout",
     "output_type": "stream",
     "text": [
      "root\n",
      " |-- tpep_pickup_datetime: date (nullable = true)"
     ]
    }
   ],
   "source": [
    "df_spark_yellow_taxi_count.printSchema()"
   ]
  },
  {
   "cell_type": "code",
   "execution_count": 18,
   "metadata": {},
   "outputs": [
    {
     "data": {
      "application/vnd.jupyter.widget-view+json": {
       "model_id": "10bf984cc49340d39f9255721443d803",
       "version_major": 2,
       "version_minor": 0
      },
      "text/plain": [
       "VBox()"
      ]
     },
     "metadata": {},
     "output_type": "display_data"
    },
    {
     "data": {
      "application/vnd.jupyter.widget-view+json": {
       "model_id": "",
       "version_major": 2,
       "version_minor": 0
      },
      "text/plain": [
       "FloatProgress(value=0.0, bar_style='info', description='Progress:', layout=Layout(height='25px', width='50%'),…"
      ]
     },
     "metadata": {},
     "output_type": "display_data"
    },
    {
     "name": "stdout",
     "output_type": "stream",
     "text": [
      "[Row(tpep_pickup_datetime=datetime.date(2020, 2, 1)), Row(tpep_pickup_datetime=datetime.date(2020, 2, 1)), Row(tpep_pickup_datetime=datetime.date(2020, 2, 1)), Row(tpep_pickup_datetime=datetime.date(2020, 2, 1)), Row(tpep_pickup_datetime=datetime.date(2020, 2, 1))]"
     ]
    }
   ],
   "source": [
    "df_spark_yellow_taxi_count.take(5)"
   ]
  },
  {
   "cell_type": "markdown",
   "metadata": {},
   "source": [
    "We will identify missing values with the following code."
   ]
  },
  {
   "cell_type": "code",
   "execution_count": 19,
   "metadata": {},
   "outputs": [
    {
     "data": {
      "application/vnd.jupyter.widget-view+json": {
       "model_id": "1c4d63fa80a7436588b0dcec7c2785d5",
       "version_major": 2,
       "version_minor": 0
      },
      "text/plain": [
       "VBox()"
      ]
     },
     "metadata": {},
     "output_type": "display_data"
    },
    {
     "data": {
      "application/vnd.jupyter.widget-view+json": {
       "model_id": "",
       "version_major": 2,
       "version_minor": 0
      },
      "text/plain": [
       "FloatProgress(value=0.0, bar_style='info', description='Progress:', layout=Layout(height='25px', width='50%'),…"
      ]
     },
     "metadata": {},
     "output_type": "display_data"
    },
    {
     "name": "stdout",
     "output_type": "stream",
     "text": [
      "[]"
     ]
    }
   ],
   "source": [
    "df_spark_yellow_taxi_count.where(col(\"tpep_pickup_datetime\").isNull()).take(5)"
   ]
  },
  {
   "cell_type": "markdown",
   "metadata": {},
   "source": [
    "There are no null values in the tpep_pickup_datetime column in this case it is not necessary to delete the missing values. Then, we will calculate the count of yellow taxi trips with the following code."
   ]
  },
  {
   "cell_type": "code",
   "execution_count": 20,
   "metadata": {},
   "outputs": [
    {
     "data": {
      "application/vnd.jupyter.widget-view+json": {
       "model_id": "3e5c3237e5ec48e481d07ce9dd01f000",
       "version_major": 2,
       "version_minor": 0
      },
      "text/plain": [
       "VBox()"
      ]
     },
     "metadata": {},
     "output_type": "display_data"
    },
    {
     "data": {
      "application/vnd.jupyter.widget-view+json": {
       "model_id": "",
       "version_major": 2,
       "version_minor": 0
      },
      "text/plain": [
       "FloatProgress(value=0.0, bar_style='info', description='Progress:', layout=Layout(height='25px', width='50%'),…"
      ]
     },
     "metadata": {},
     "output_type": "display_data"
    }
   ],
   "source": [
    "df_spark_yellow_taxi_count =  df_spark_yellow_taxi_count.groupBy('tpep_pickup_datetime').count()"
   ]
  },
  {
   "cell_type": "code",
   "execution_count": 21,
   "metadata": {},
   "outputs": [
    {
     "data": {
      "application/vnd.jupyter.widget-view+json": {
       "model_id": "29cd57b7da41457fbba4c0f1adebbdca",
       "version_major": 2,
       "version_minor": 0
      },
      "text/plain": [
       "VBox()"
      ]
     },
     "metadata": {},
     "output_type": "display_data"
    },
    {
     "data": {
      "application/vnd.jupyter.widget-view+json": {
       "model_id": "",
       "version_major": 2,
       "version_minor": 0
      },
      "text/plain": [
       "FloatProgress(value=0.0, bar_style='info', description='Progress:', layout=Layout(height='25px', width='50%'),…"
      ]
     },
     "metadata": {},
     "output_type": "display_data"
    },
    {
     "name": "stdout",
     "output_type": "stream",
     "text": [
      "+--------------------+------+\n",
      "|tpep_pickup_datetime| count|\n",
      "+--------------------+------+\n",
      "|          2020-04-30| 10283|\n",
      "|          2020-03-07|208200|\n",
      "|          2020-03-13|134702|\n",
      "|          2020-02-04|216049|\n",
      "|          2020-02-15|202201|\n",
      "|          2009-01-01|    44|\n",
      "|          2020-05-23|  8009|\n",
      "|          2020-02-12|236425|\n",
      "|          2020-05-08| 13136|\n",
      "|          2020-05-24|  7984|\n",
      "|          2020-06-04| 15836|\n",
      "|          2020-04-29|  9683|\n",
      "|          2020-05-10|  7605|\n",
      "|          2020-04-26|  4992|\n",
      "|          2020-04-21|  8085|\n",
      "|          2020-03-09|175572|\n",
      "|          2020-03-10|184068|\n",
      "|          2020-03-11|182630|\n",
      "|          2020-06-05| 16501|\n",
      "|          2020-04-19|  5122|\n",
      "+--------------------+------+\n",
      "only showing top 20 rows"
     ]
    }
   ],
   "source": [
    "df_spark_yellow_taxi_count.show()"
   ]
  },
  {
   "cell_type": "markdown",
   "metadata": {},
   "source": [
    "##### Green taxi trips dataset"
   ]
  },
  {
   "cell_type": "code",
   "execution_count": 22,
   "metadata": {},
   "outputs": [
    {
     "data": {
      "application/vnd.jupyter.widget-view+json": {
       "model_id": "a2239370f0ae41cb95d013950f398855",
       "version_major": 2,
       "version_minor": 0
      },
      "text/plain": [
       "VBox()"
      ]
     },
     "metadata": {},
     "output_type": "display_data"
    },
    {
     "data": {
      "application/vnd.jupyter.widget-view+json": {
       "model_id": "",
       "version_major": 2,
       "version_minor": 0
      },
      "text/plain": [
       "FloatProgress(value=0.0, bar_style='info', description='Progress:', layout=Layout(height='25px', width='50%'),…"
      ]
     },
     "metadata": {},
     "output_type": "display_data"
    },
    {
     "name": "stdout",
     "output_type": "stream",
     "text": [
      "root\n",
      " |-- VendorID: string (nullable = true)\n",
      " |-- lpep_pickup_datetime: string (nullable = true)\n",
      " |-- lpep_dropoff_datetime: string (nullable = true)\n",
      " |-- store_and_fwd_flag: string (nullable = true)\n",
      " |-- RatecodeID: string (nullable = true)\n",
      " |-- PULocationID: string (nullable = true)\n",
      " |-- DOLocationID: string (nullable = true)\n",
      " |-- passenger_count: string (nullable = true)\n",
      " |-- trip_distance: string (nullable = true)\n",
      " |-- fare_amount: string (nullable = true)\n",
      " |-- extra: string (nullable = true)\n",
      " |-- mta_tax: string (nullable = true)\n",
      " |-- tip_amount: string (nullable = true)\n",
      " |-- tolls_amount: string (nullable = true)\n",
      " |-- ehail_fee: string (nullable = true)\n",
      " |-- improvement_surcharge: string (nullable = true)\n",
      " |-- total_amount: string (nullable = true)\n",
      " |-- payment_type: string (nullable = true)\n",
      " |-- trip_type: string (nullable = true)\n",
      " |-- congestion_surcharge: string (nullable = true)"
     ]
    }
   ],
   "source": [
    "df_spark_green_taxi.printSchema()"
   ]
  },
  {
   "cell_type": "markdown",
   "metadata": {},
   "source": [
    "The printSchema method shows that there are 20 variables, all the variables are interpreted as strings by default."
   ]
  },
  {
   "cell_type": "code",
   "execution_count": 23,
   "metadata": {},
   "outputs": [
    {
     "data": {
      "application/vnd.jupyter.widget-view+json": {
       "model_id": "e1788644c0394d51bf22af6bdb61dc40",
       "version_major": 2,
       "version_minor": 0
      },
      "text/plain": [
       "VBox()"
      ]
     },
     "metadata": {},
     "output_type": "display_data"
    },
    {
     "data": {
      "application/vnd.jupyter.widget-view+json": {
       "model_id": "",
       "version_major": 2,
       "version_minor": 0
      },
      "text/plain": [
       "FloatProgress(value=0.0, bar_style='info', description='Progress:', layout=Layout(height='25px', width='50%'),…"
      ]
     },
     "metadata": {},
     "output_type": "display_data"
    },
    {
     "name": "stdout",
     "output_type": "stream",
     "text": [
      "778119"
     ]
    }
   ],
   "source": [
    "df_spark_green_taxi.count()"
   ]
  },
  {
   "cell_type": "markdown",
   "metadata": {},
   "source": [
    "There are 778 thousand rows. "
   ]
  },
  {
   "cell_type": "code",
   "execution_count": 24,
   "metadata": {},
   "outputs": [
    {
     "data": {
      "application/vnd.jupyter.widget-view+json": {
       "model_id": "765323ae151640eea16d9543f8805930",
       "version_major": 2,
       "version_minor": 0
      },
      "text/plain": [
       "VBox()"
      ]
     },
     "metadata": {},
     "output_type": "display_data"
    },
    {
     "data": {
      "application/vnd.jupyter.widget-view+json": {
       "model_id": "",
       "version_major": 2,
       "version_minor": 0
      },
      "text/plain": [
       "FloatProgress(value=0.0, bar_style='info', description='Progress:', layout=Layout(height='25px', width='50%'),…"
      ]
     },
     "metadata": {},
     "output_type": "display_data"
    },
    {
     "name": "stdout",
     "output_type": "stream",
     "text": [
      "[Row(VendorID='2', lpep_pickup_datetime='2020-02-01 00:10:25', lpep_dropoff_datetime='2020-02-01 00:14:34', store_and_fwd_flag='N', RatecodeID='1', PULocationID='74', DOLocationID='41', passenger_count='1', trip_distance='.76', fare_amount='4.5', extra='0.5', mta_tax='0.5', tip_amount='0', tolls_amount='0', ehail_fee=None, improvement_surcharge='0.3', total_amount='5.8', payment_type='2', trip_type='1', congestion_surcharge='0'), Row(VendorID='2', lpep_pickup_datetime='2020-02-01 00:16:59', lpep_dropoff_datetime='2020-02-01 00:21:35', store_and_fwd_flag='N', RatecodeID='1', PULocationID='74', DOLocationID='74', passenger_count='1', trip_distance='.72', fare_amount='5', extra='0.5', mta_tax='0.5', tip_amount='0', tolls_amount='0', ehail_fee=None, improvement_surcharge='0.3', total_amount='6.3', payment_type='1', trip_type='1', congestion_surcharge='0'), Row(VendorID='2', lpep_pickup_datetime='2020-02-01 00:19:31', lpep_dropoff_datetime='2020-02-01 00:25:29', store_and_fwd_flag='N', RatecodeID='1', PULocationID='223', DOLocationID='7', passenger_count='1', trip_distance='.89', fare_amount='6', extra='0.5', mta_tax='0.5', tip_amount='1.82', tolls_amount='0', ehail_fee=None, improvement_surcharge='0.3', total_amount='9.12', payment_type='1', trip_type='1', congestion_surcharge='0'), Row(VendorID='2', lpep_pickup_datetime='2020-02-01 00:43:52', lpep_dropoff_datetime='2020-02-01 00:48:58', store_and_fwd_flag='N', RatecodeID='1', PULocationID='145', DOLocationID='145', passenger_count='1', trip_distance='1.12', fare_amount='6', extra='0.5', mta_tax='0.5', tip_amount='0', tolls_amount='0', ehail_fee=None, improvement_surcharge='0.3', total_amount='7.3', payment_type='2', trip_type='1', congestion_surcharge='0'), Row(VendorID='2', lpep_pickup_datetime='2020-02-01 00:32:53', lpep_dropoff_datetime='2020-02-01 00:35:19', store_and_fwd_flag='N', RatecodeID='1', PULocationID='166', DOLocationID='166', passenger_count='1', trip_distance='.65', fare_amount='4', extra='0.5', mta_tax='0.5', tip_amount='1.06', tolls_amount='0', ehail_fee=None, improvement_surcharge='0.3', total_amount='6.36', payment_type='1', trip_type='1', congestion_surcharge='0')]"
     ]
    }
   ],
   "source": [
    "df_spark_green_taxi.take(5)"
   ]
  },
  {
   "cell_type": "markdown",
   "metadata": {},
   "source": [
    "We get the 5 first rows of the dataframe. The data dictionary is shown as follows:\n",
    "\n",
    "| Field Name            | Description                                                                                                                                                                                                                                               |\n",
    "|-----------------------|-----------------------------------------------------------------------------------------------------------------------------------------------------------------------------------------------------------------------------------------------------------|\n",
    "| VendorID              | A code indicating the TPEP provider that provided the record. 1= Creative Mobile Technologies, LLC; 2= VeriFone Inc.                                                                                                                                      |\n",
    "| lpep_pickup_datetime | The date and time when the meter was engaged. |\n",
    "| lpep_dropoff_datetime  | The date and time when the meter was disengaged.   |\n",
    "| Passenger_count  | The number of passengers in the vehicle.  This is a driver-entered value.   |\n",
    "| Trip_distance  | The elapsed trip distance in miles reported by the taximeter.  |\n",
    "| PULocationID  | TLC Taxi Zone in which the taximeter was engaged  |\n",
    "| DOLocationID  | TLC Taxi Zonein which the taximeter was disengaged  |\n",
    "| RateCodeID  | The final rate code in effect at the end of the trip. 1= Standard rate 2=JFK 3=Newark 4=Nassau or Westchester 5=Negotiated fare6=Group rid  |\n",
    "| Store_and_fwd_flag  | This flag indicates whether the trip record was held in vehicle memory before sending to the vendor, aka “store and forward,” because the vehicle did not have a connection to the server. Y= store and forward trip N= not a store and forward trip |\n",
    "| Payment_type  | A numeric code signifying how the passenger paid for the trip. 1= Credit card 2= Cash 3= No charge 4= Dispute 5= Unknown 6= Voided trip  |\n",
    "| Fare_amount  | The time-and-distance fare calculated by the meter.  |\n",
    "| Extra  | Miscellaneous extras and surcharges.  Currently, this only includes the 0.50 and 1 rush hour and overnight charges.  |\n",
    "| MTA_tax  | \\$0.50 MTA tax that is automatically triggered based on the metered rate in use.  |\n",
    "| Improvement_surcharge  | \\$0.30 improvement surcharge assessed on hailed trips at the flag drop. The improvement surcharge began being levied in 2015.  |\n",
    "| Tip_amount  | Tip amount –This field is automatically populated for credit card tips. Cash tips are not included.  |\n",
    "| Tolls_amount  | Total amount of all tolls paid in trip.   |\n",
    "| Total_amount  | The total amount charged to passengers. Does not include cash tips. |\n",
    "\n",
    "Next, we will calculate the count of green taxi trips. \n"
   ]
  },
  {
   "cell_type": "code",
   "execution_count": 25,
   "metadata": {},
   "outputs": [
    {
     "data": {
      "application/vnd.jupyter.widget-view+json": {
       "model_id": "c2847ef50b7245c98aea442e80fa06fd",
       "version_major": 2,
       "version_minor": 0
      },
      "text/plain": [
       "VBox()"
      ]
     },
     "metadata": {},
     "output_type": "display_data"
    },
    {
     "data": {
      "application/vnd.jupyter.widget-view+json": {
       "model_id": "",
       "version_major": 2,
       "version_minor": 0
      },
      "text/plain": [
       "FloatProgress(value=0.0, bar_style='info', description='Progress:', layout=Layout(height='25px', width='50%'),…"
      ]
     },
     "metadata": {},
     "output_type": "display_data"
    }
   ],
   "source": [
    "df_spark_green_taxi_count = df_spark_green_taxi.select(\"lpep_pickup_datetime\")"
   ]
  },
  {
   "cell_type": "code",
   "execution_count": 26,
   "metadata": {},
   "outputs": [
    {
     "data": {
      "application/vnd.jupyter.widget-view+json": {
       "model_id": "93ce4d90c3934439a15775d294eb9ecc",
       "version_major": 2,
       "version_minor": 0
      },
      "text/plain": [
       "VBox()"
      ]
     },
     "metadata": {},
     "output_type": "display_data"
    },
    {
     "data": {
      "application/vnd.jupyter.widget-view+json": {
       "model_id": "",
       "version_major": 2,
       "version_minor": 0
      },
      "text/plain": [
       "FloatProgress(value=0.0, bar_style='info', description='Progress:', layout=Layout(height='25px', width='50%'),…"
      ]
     },
     "metadata": {},
     "output_type": "display_data"
    },
    {
     "name": "stdout",
     "output_type": "stream",
     "text": [
      "root\n",
      " |-- lpep_pickup_datetime: string (nullable = true)"
     ]
    }
   ],
   "source": [
    "df_spark_green_taxi_count.printSchema()"
   ]
  },
  {
   "cell_type": "markdown",
   "metadata": {},
   "source": [
    "We will change the lpep_pickup_datetime colum from string type to TimestampType type with the following code."
   ]
  },
  {
   "cell_type": "code",
   "execution_count": 27,
   "metadata": {},
   "outputs": [
    {
     "data": {
      "application/vnd.jupyter.widget-view+json": {
       "model_id": "204152e2194c439c9970574d40261e5f",
       "version_major": 2,
       "version_minor": 0
      },
      "text/plain": [
       "VBox()"
      ]
     },
     "metadata": {},
     "output_type": "display_data"
    },
    {
     "data": {
      "application/vnd.jupyter.widget-view+json": {
       "model_id": "",
       "version_major": 2,
       "version_minor": 0
      },
      "text/plain": [
       "FloatProgress(value=0.0, bar_style='info', description='Progress:', layout=Layout(height='25px', width='50%'),…"
      ]
     },
     "metadata": {},
     "output_type": "display_data"
    }
   ],
   "source": [
    "df_spark_green_taxi_count = df_spark_green_taxi_count.withColumn(\"lpep_pickup_datetime\", df_spark_green_taxi_count[\"lpep_pickup_datetime\"].cast(TimestampType()))\n"
   ]
  },
  {
   "cell_type": "code",
   "execution_count": 28,
   "metadata": {},
   "outputs": [
    {
     "data": {
      "application/vnd.jupyter.widget-view+json": {
       "model_id": "1d4452aebfab459e8e41f3c9d841af19",
       "version_major": 2,
       "version_minor": 0
      },
      "text/plain": [
       "VBox()"
      ]
     },
     "metadata": {},
     "output_type": "display_data"
    },
    {
     "data": {
      "application/vnd.jupyter.widget-view+json": {
       "model_id": "",
       "version_major": 2,
       "version_minor": 0
      },
      "text/plain": [
       "FloatProgress(value=0.0, bar_style='info', description='Progress:', layout=Layout(height='25px', width='50%'),…"
      ]
     },
     "metadata": {},
     "output_type": "display_data"
    },
    {
     "name": "stdout",
     "output_type": "stream",
     "text": [
      "root\n",
      " |-- lpep_pickup_datetime: timestamp (nullable = true)"
     ]
    }
   ],
   "source": [
    "df_spark_green_taxi_count.printSchema()"
   ]
  },
  {
   "cell_type": "code",
   "execution_count": 29,
   "metadata": {},
   "outputs": [
    {
     "data": {
      "application/vnd.jupyter.widget-view+json": {
       "model_id": "e092dcc8bd284e4e90061aa4166a4b6f",
       "version_major": 2,
       "version_minor": 0
      },
      "text/plain": [
       "VBox()"
      ]
     },
     "metadata": {},
     "output_type": "display_data"
    },
    {
     "data": {
      "application/vnd.jupyter.widget-view+json": {
       "model_id": "",
       "version_major": 2,
       "version_minor": 0
      },
      "text/plain": [
       "FloatProgress(value=0.0, bar_style='info', description='Progress:', layout=Layout(height='25px', width='50%'),…"
      ]
     },
     "metadata": {},
     "output_type": "display_data"
    },
    {
     "name": "stdout",
     "output_type": "stream",
     "text": [
      "[Row(lpep_pickup_datetime=datetime.datetime(2020, 2, 1, 0, 10, 25)), Row(lpep_pickup_datetime=datetime.datetime(2020, 2, 1, 0, 16, 59)), Row(lpep_pickup_datetime=datetime.datetime(2020, 2, 1, 0, 19, 31)), Row(lpep_pickup_datetime=datetime.datetime(2020, 2, 1, 0, 43, 52)), Row(lpep_pickup_datetime=datetime.datetime(2020, 2, 1, 0, 32, 53))]"
     ]
    }
   ],
   "source": [
    "df_spark_green_taxi_count.take(5)"
   ]
  },
  {
   "cell_type": "markdown",
   "metadata": {},
   "source": [
    "We will change the lpep_pickup_datetime colum from TimestampType type to DateType type with the following code."
   ]
  },
  {
   "cell_type": "code",
   "execution_count": 30,
   "metadata": {},
   "outputs": [
    {
     "data": {
      "application/vnd.jupyter.widget-view+json": {
       "model_id": "8ae84a656e1c41a4910201aa9524b9c0",
       "version_major": 2,
       "version_minor": 0
      },
      "text/plain": [
       "VBox()"
      ]
     },
     "metadata": {},
     "output_type": "display_data"
    },
    {
     "data": {
      "application/vnd.jupyter.widget-view+json": {
       "model_id": "",
       "version_major": 2,
       "version_minor": 0
      },
      "text/plain": [
       "FloatProgress(value=0.0, bar_style='info', description='Progress:', layout=Layout(height='25px', width='50%'),…"
      ]
     },
     "metadata": {},
     "output_type": "display_data"
    }
   ],
   "source": [
    "df_spark_green_taxi_count = df_spark_green_taxi_count.withColumn(\"lpep_pickup_datetime\", df_spark_green_taxi_count[\"lpep_pickup_datetime\"].cast(DateType()))"
   ]
  },
  {
   "cell_type": "code",
   "execution_count": 31,
   "metadata": {},
   "outputs": [
    {
     "data": {
      "application/vnd.jupyter.widget-view+json": {
       "model_id": "66e7131736da402981159d77003ace8e",
       "version_major": 2,
       "version_minor": 0
      },
      "text/plain": [
       "VBox()"
      ]
     },
     "metadata": {},
     "output_type": "display_data"
    },
    {
     "data": {
      "application/vnd.jupyter.widget-view+json": {
       "model_id": "",
       "version_major": 2,
       "version_minor": 0
      },
      "text/plain": [
       "FloatProgress(value=0.0, bar_style='info', description='Progress:', layout=Layout(height='25px', width='50%'),…"
      ]
     },
     "metadata": {},
     "output_type": "display_data"
    },
    {
     "name": "stdout",
     "output_type": "stream",
     "text": [
      "root\n",
      " |-- lpep_pickup_datetime: date (nullable = true)"
     ]
    }
   ],
   "source": [
    "df_spark_green_taxi_count.printSchema()"
   ]
  },
  {
   "cell_type": "code",
   "execution_count": 32,
   "metadata": {},
   "outputs": [
    {
     "data": {
      "application/vnd.jupyter.widget-view+json": {
       "model_id": "1df0e34eb15445e2a1b69ba622cbd174",
       "version_major": 2,
       "version_minor": 0
      },
      "text/plain": [
       "VBox()"
      ]
     },
     "metadata": {},
     "output_type": "display_data"
    },
    {
     "data": {
      "application/vnd.jupyter.widget-view+json": {
       "model_id": "",
       "version_major": 2,
       "version_minor": 0
      },
      "text/plain": [
       "FloatProgress(value=0.0, bar_style='info', description='Progress:', layout=Layout(height='25px', width='50%'),…"
      ]
     },
     "metadata": {},
     "output_type": "display_data"
    },
    {
     "name": "stdout",
     "output_type": "stream",
     "text": [
      "[Row(lpep_pickup_datetime=datetime.date(2020, 2, 1)), Row(lpep_pickup_datetime=datetime.date(2020, 2, 1)), Row(lpep_pickup_datetime=datetime.date(2020, 2, 1)), Row(lpep_pickup_datetime=datetime.date(2020, 2, 1)), Row(lpep_pickup_datetime=datetime.date(2020, 2, 1))]"
     ]
    }
   ],
   "source": [
    "df_spark_green_taxi_count.take(5)"
   ]
  },
  {
   "cell_type": "markdown",
   "metadata": {},
   "source": [
    "We will identify missing values with the following code."
   ]
  },
  {
   "cell_type": "code",
   "execution_count": 33,
   "metadata": {},
   "outputs": [
    {
     "data": {
      "application/vnd.jupyter.widget-view+json": {
       "model_id": "d8f7ceb5e96944cf887412844b805fd5",
       "version_major": 2,
       "version_minor": 0
      },
      "text/plain": [
       "VBox()"
      ]
     },
     "metadata": {},
     "output_type": "display_data"
    },
    {
     "data": {
      "application/vnd.jupyter.widget-view+json": {
       "model_id": "",
       "version_major": 2,
       "version_minor": 0
      },
      "text/plain": [
       "FloatProgress(value=0.0, bar_style='info', description='Progress:', layout=Layout(height='25px', width='50%'),…"
      ]
     },
     "metadata": {},
     "output_type": "display_data"
    },
    {
     "name": "stdout",
     "output_type": "stream",
     "text": [
      "[]"
     ]
    }
   ],
   "source": [
    "df_spark_green_taxi_count.where(col(\"lpep_pickup_datetime\").isNull()).take(5)"
   ]
  },
  {
   "cell_type": "markdown",
   "metadata": {},
   "source": [
    "There are no null values in the lpep_pickup_datetime column in this case it is not necessary to delete the missing values. Then, we will calculate the count of green taxi trips with the following code."
   ]
  },
  {
   "cell_type": "code",
   "execution_count": 34,
   "metadata": {},
   "outputs": [
    {
     "data": {
      "application/vnd.jupyter.widget-view+json": {
       "model_id": "fbf44c23dd004fb5a5ce59da048603fa",
       "version_major": 2,
       "version_minor": 0
      },
      "text/plain": [
       "VBox()"
      ]
     },
     "metadata": {},
     "output_type": "display_data"
    },
    {
     "data": {
      "application/vnd.jupyter.widget-view+json": {
       "model_id": "",
       "version_major": 2,
       "version_minor": 0
      },
      "text/plain": [
       "FloatProgress(value=0.0, bar_style='info', description='Progress:', layout=Layout(height='25px', width='50%'),…"
      ]
     },
     "metadata": {},
     "output_type": "display_data"
    }
   ],
   "source": [
    "df_spark_green_taxi_count =  df_spark_green_taxi_count.groupBy('lpep_pickup_datetime').count()"
   ]
  },
  {
   "cell_type": "code",
   "execution_count": 35,
   "metadata": {},
   "outputs": [
    {
     "data": {
      "application/vnd.jupyter.widget-view+json": {
       "model_id": "38f968ff8f9f4e038b24b5bf9039a237",
       "version_major": 2,
       "version_minor": 0
      },
      "text/plain": [
       "VBox()"
      ]
     },
     "metadata": {},
     "output_type": "display_data"
    },
    {
     "data": {
      "application/vnd.jupyter.widget-view+json": {
       "model_id": "",
       "version_major": 2,
       "version_minor": 0
      },
      "text/plain": [
       "FloatProgress(value=0.0, bar_style='info', description='Progress:', layout=Layout(height='25px', width='50%'),…"
      ]
     },
     "metadata": {},
     "output_type": "display_data"
    },
    {
     "name": "stdout",
     "output_type": "stream",
     "text": [
      "+--------------------+-----+\n",
      "|lpep_pickup_datetime|count|\n",
      "+--------------------+-----+\n",
      "|          2020-04-30| 1677|\n",
      "|          2020-03-13|10783|\n",
      "|          2020-03-07|13230|\n",
      "|          2020-02-15|12786|\n",
      "|          2020-02-04|13981|\n",
      "|          2009-01-01|    6|\n",
      "|          2020-05-23| 1399|\n",
      "|          2020-02-12|14964|\n",
      "|          2020-05-08| 2167|\n",
      "|          2020-06-04| 2157|\n",
      "|          2020-05-24| 1001|\n",
      "|          2020-04-29| 1576|\n",
      "|          2020-05-10| 1341|\n",
      "|          2020-04-26|  666|\n",
      "|          2020-04-21| 1079|\n",
      "|          2020-03-09|12002|\n",
      "|          2020-03-10|12258|\n",
      "|          2020-03-11|12268|\n",
      "|          2020-06-05| 2323|\n",
      "|          2020-04-19|  692|\n",
      "+--------------------+-----+\n",
      "only showing top 20 rows"
     ]
    }
   ],
   "source": [
    "df_spark_green_taxi_count.show()"
   ]
  },
  {
   "cell_type": "markdown",
   "metadata": {},
   "source": [
    "##### Uber and Lyft taxi trips dataset\n"
   ]
  },
  {
   "cell_type": "code",
   "execution_count": 36,
   "metadata": {},
   "outputs": [
    {
     "data": {
      "application/vnd.jupyter.widget-view+json": {
       "model_id": "3b4f3bfedf7347ef905b598875fe53bf",
       "version_major": 2,
       "version_minor": 0
      },
      "text/plain": [
       "VBox()"
      ]
     },
     "metadata": {},
     "output_type": "display_data"
    },
    {
     "data": {
      "application/vnd.jupyter.widget-view+json": {
       "model_id": "",
       "version_major": 2,
       "version_minor": 0
      },
      "text/plain": [
       "FloatProgress(value=0.0, bar_style='info', description='Progress:', layout=Layout(height='25px', width='50%'),…"
      ]
     },
     "metadata": {},
     "output_type": "display_data"
    },
    {
     "name": "stdout",
     "output_type": "stream",
     "text": [
      "root\n",
      " |-- hvfhs_license_num: string (nullable = true)\n",
      " |-- dispatching_base_num: string (nullable = true)\n",
      " |-- pickup_datetime: string (nullable = true)\n",
      " |-- dropoff_datetime: string (nullable = true)\n",
      " |-- PULocationID: string (nullable = true)\n",
      " |-- DOLocationID: string (nullable = true)\n",
      " |-- SR_Flag: string (nullable = true)"
     ]
    }
   ],
   "source": [
    "df_spark_uber_lyft_taxi.printSchema()"
   ]
  },
  {
   "cell_type": "markdown",
   "metadata": {},
   "source": [
    "The printSchema method shows that there are 7 variables, all the variables are interpreted as strings by default."
   ]
  },
  {
   "cell_type": "code",
   "execution_count": 37,
   "metadata": {},
   "outputs": [
    {
     "data": {
      "application/vnd.jupyter.widget-view+json": {
       "model_id": "6063b0b6d0ae48d68532dac0f27a7741",
       "version_major": 2,
       "version_minor": 0
      },
      "text/plain": [
       "VBox()"
      ]
     },
     "metadata": {},
     "output_type": "display_data"
    },
    {
     "data": {
      "application/vnd.jupyter.widget-view+json": {
       "model_id": "",
       "version_major": 2,
       "version_minor": 0
      },
      "text/plain": [
       "FloatProgress(value=0.0, bar_style='info', description='Progress:', layout=Layout(height='25px', width='50%'),…"
      ]
     },
     "metadata": {},
     "output_type": "display_data"
    },
    {
     "name": "stdout",
     "output_type": "stream",
     "text": [
      "[Row(hvfhs_license_num='HV0003', dispatching_base_num='B02872', pickup_datetime='2020-02-01 00:06:20', dropoff_datetime='2020-02-01 00:11:41', PULocationID='107', DOLocationID='114', SR_Flag=None), Row(hvfhs_license_num='HV0003', dispatching_base_num='B02872', pickup_datetime='2020-02-01 00:27:49', dropoff_datetime='2020-02-01 00:46:37', PULocationID='249', DOLocationID='263', SR_Flag=None), Row(hvfhs_license_num='HV0003', dispatching_base_num='B02872', pickup_datetime='2020-02-01 00:47:37', dropoff_datetime='2020-02-01 01:03:17', PULocationID='263', DOLocationID='41', SR_Flag=None), Row(hvfhs_license_num='HV0003', dispatching_base_num='B02682', pickup_datetime='2020-02-01 00:10:26', dropoff_datetime='2020-02-01 00:34:57', PULocationID='4', DOLocationID='88', SR_Flag=None), Row(hvfhs_license_num='HV0003', dispatching_base_num='B02764', pickup_datetime='2020-02-01 00:48:56', dropoff_datetime='2020-02-01 00:57:37', PULocationID='161', DOLocationID='162', SR_Flag=None)]"
     ]
    }
   ],
   "source": [
    "df_spark_uber_lyft_taxi.take(5)"
   ]
  },
  {
   "cell_type": "markdown",
   "metadata": {},
   "source": [
    "We get the 5 first rows of the dataframe. The data dictionary is shown as follows:\n",
    "\n",
    "| Field Name            | Description                                                                                                                                                                                                                                               |\n",
    "|-----------------------|-----------------------------------------------------------------------------------------------------------------------------------------------------------------------------------------------------------------------------------------------------------|\n",
    "| Hvfhs_license_num              | The TLC license number of the HVFHS base or businessAs of September 2019, the HVFHS licensees are the following: HV0002: Juno, HV0003: Uber, HV0004: Via, HV0005: Lyft                                                                                                                                     |\n",
    "| Dispatching_base_num | The TLC Base License Number of the base that dispatched the trip. |\n",
    "| Pickup_datetime | The date and time of the trip pick-up | \n",
    "| DropOff_datetime  | The date and time of the trip drop-off |\n",
    "| PULocationID  | TLC Taxi Zone in which the trip began | \n",
    "| DOLocationID  | TLC Taxi Zone in which the trip ended |\n",
    "| SR_Flag  |Indicates if the trip was a part of a shared ride chain offered by a High Volume FHV company (e.g.Uber Pool, Lyft Line). Forshared trips, the value is 1. For non-shared rides, this field is null. |\n"
   ]
  },
  {
   "cell_type": "markdown",
   "metadata": {},
   "source": [
    "With the following code we will get the unique values of hvfhs_license_num column."
   ]
  },
  {
   "cell_type": "code",
   "execution_count": 38,
   "metadata": {},
   "outputs": [
    {
     "data": {
      "application/vnd.jupyter.widget-view+json": {
       "model_id": "4808012a3a53496c96050a7c1939899f",
       "version_major": 2,
       "version_minor": 0
      },
      "text/plain": [
       "VBox()"
      ]
     },
     "metadata": {},
     "output_type": "display_data"
    },
    {
     "data": {
      "application/vnd.jupyter.widget-view+json": {
       "model_id": "",
       "version_major": 2,
       "version_minor": 0
      },
      "text/plain": [
       "FloatProgress(value=0.0, bar_style='info', description='Progress:', layout=Layout(height='25px', width='50%'),…"
      ]
     },
     "metadata": {},
     "output_type": "display_data"
    },
    {
     "name": "stdout",
     "output_type": "stream",
     "text": [
      "+-----------------+\n",
      "|hvfhs_license_num|\n",
      "+-----------------+\n",
      "|           HV0004|\n",
      "|           HV0005|\n",
      "|           HV0003|\n",
      "+-----------------+"
     ]
    }
   ],
   "source": [
    "df_spark_uber_lyft_taxi.select(\"hvfhs_license_num\").distinct().show()"
   ]
  },
  {
   "cell_type": "markdown",
   "metadata": {},
   "source": [
    "From the above there are values for Via, Uber, and Lyft but there are no values for Juno. "
   ]
  },
  {
   "cell_type": "markdown",
   "metadata": {},
   "source": [
    "We will create two dataframe for uber and lyft. "
   ]
  },
  {
   "cell_type": "code",
   "execution_count": 39,
   "metadata": {},
   "outputs": [
    {
     "data": {
      "application/vnd.jupyter.widget-view+json": {
       "model_id": "606e2ea5bf3546daa81b851738dab509",
       "version_major": 2,
       "version_minor": 0
      },
      "text/plain": [
       "VBox()"
      ]
     },
     "metadata": {},
     "output_type": "display_data"
    },
    {
     "data": {
      "application/vnd.jupyter.widget-view+json": {
       "model_id": "",
       "version_major": 2,
       "version_minor": 0
      },
      "text/plain": [
       "FloatProgress(value=0.0, bar_style='info', description='Progress:', layout=Layout(height='25px', width='50%'),…"
      ]
     },
     "metadata": {},
     "output_type": "display_data"
    }
   ],
   "source": [
    "df_spark_uber_taxi = df_spark_uber_lyft_taxi.where(col(\"hvfhs_license_num\") == \"HV0003\").select(\"pickup_datetime\")"
   ]
  },
  {
   "cell_type": "code",
   "execution_count": 40,
   "metadata": {},
   "outputs": [
    {
     "data": {
      "application/vnd.jupyter.widget-view+json": {
       "model_id": "0c2863d89a224373b11f5cb2b785de1b",
       "version_major": 2,
       "version_minor": 0
      },
      "text/plain": [
       "VBox()"
      ]
     },
     "metadata": {},
     "output_type": "display_data"
    },
    {
     "data": {
      "application/vnd.jupyter.widget-view+json": {
       "model_id": "",
       "version_major": 2,
       "version_minor": 0
      },
      "text/plain": [
       "FloatProgress(value=0.0, bar_style='info', description='Progress:', layout=Layout(height='25px', width='50%'),…"
      ]
     },
     "metadata": {},
     "output_type": "display_data"
    },
    {
     "name": "stdout",
     "output_type": "stream",
     "text": [
      "root\n",
      " |-- pickup_datetime: string (nullable = true)"
     ]
    }
   ],
   "source": [
    "df_spark_uber_taxi.printSchema()"
   ]
  },
  {
   "cell_type": "code",
   "execution_count": 41,
   "metadata": {},
   "outputs": [
    {
     "data": {
      "application/vnd.jupyter.widget-view+json": {
       "model_id": "98a947b33a6e4e8d9a7c8d2146712b90",
       "version_major": 2,
       "version_minor": 0
      },
      "text/plain": [
       "VBox()"
      ]
     },
     "metadata": {},
     "output_type": "display_data"
    },
    {
     "data": {
      "application/vnd.jupyter.widget-view+json": {
       "model_id": "",
       "version_major": 2,
       "version_minor": 0
      },
      "text/plain": [
       "FloatProgress(value=0.0, bar_style='info', description='Progress:', layout=Layout(height='25px', width='50%'),…"
      ]
     },
     "metadata": {},
     "output_type": "display_data"
    },
    {
     "name": "stdout",
     "output_type": "stream",
     "text": [
      "[Row(pickup_datetime='2020-02-01 00:06:20'), Row(pickup_datetime='2020-02-01 00:27:49'), Row(pickup_datetime='2020-02-01 00:47:37'), Row(pickup_datetime='2020-02-01 00:10:26'), Row(pickup_datetime='2020-02-01 00:48:56')]"
     ]
    }
   ],
   "source": [
    "df_spark_uber_taxi.take(5)"
   ]
  },
  {
   "cell_type": "code",
   "execution_count": 42,
   "metadata": {},
   "outputs": [
    {
     "data": {
      "application/vnd.jupyter.widget-view+json": {
       "model_id": "1460438f5094468095e5799b9e053082",
       "version_major": 2,
       "version_minor": 0
      },
      "text/plain": [
       "VBox()"
      ]
     },
     "metadata": {},
     "output_type": "display_data"
    },
    {
     "data": {
      "application/vnd.jupyter.widget-view+json": {
       "model_id": "",
       "version_major": 2,
       "version_minor": 0
      },
      "text/plain": [
       "FloatProgress(value=0.0, bar_style='info', description='Progress:', layout=Layout(height='25px', width='50%'),…"
      ]
     },
     "metadata": {},
     "output_type": "display_data"
    },
    {
     "name": "stdout",
     "output_type": "stream",
     "text": [
      "38152707"
     ]
    }
   ],
   "source": [
    "df_spark_uber_taxi.count()"
   ]
  },
  {
   "cell_type": "markdown",
   "metadata": {},
   "source": [
    "There are 38 millions of rows."
   ]
  },
  {
   "cell_type": "markdown",
   "metadata": {},
   "source": [
    "We will change the pickup_datetime colum from string type to TimestampType type with the following code."
   ]
  },
  {
   "cell_type": "code",
   "execution_count": 43,
   "metadata": {},
   "outputs": [
    {
     "data": {
      "application/vnd.jupyter.widget-view+json": {
       "model_id": "52d6d39a846a4387967b687acaee342f",
       "version_major": 2,
       "version_minor": 0
      },
      "text/plain": [
       "VBox()"
      ]
     },
     "metadata": {},
     "output_type": "display_data"
    },
    {
     "data": {
      "application/vnd.jupyter.widget-view+json": {
       "model_id": "",
       "version_major": 2,
       "version_minor": 0
      },
      "text/plain": [
       "FloatProgress(value=0.0, bar_style='info', description='Progress:', layout=Layout(height='25px', width='50%'),…"
      ]
     },
     "metadata": {},
     "output_type": "display_data"
    }
   ],
   "source": [
    "df_spark_uber_taxi_count = df_spark_uber_taxi.withColumn(\"pickup_datetime\", df_spark_uber_taxi[\"pickup_datetime\"].cast(TimestampType()))"
   ]
  },
  {
   "cell_type": "code",
   "execution_count": 44,
   "metadata": {},
   "outputs": [
    {
     "data": {
      "application/vnd.jupyter.widget-view+json": {
       "model_id": "40efbc04374349ef8fecbcabc225f546",
       "version_major": 2,
       "version_minor": 0
      },
      "text/plain": [
       "VBox()"
      ]
     },
     "metadata": {},
     "output_type": "display_data"
    },
    {
     "data": {
      "application/vnd.jupyter.widget-view+json": {
       "model_id": "",
       "version_major": 2,
       "version_minor": 0
      },
      "text/plain": [
       "FloatProgress(value=0.0, bar_style='info', description='Progress:', layout=Layout(height='25px', width='50%'),…"
      ]
     },
     "metadata": {},
     "output_type": "display_data"
    },
    {
     "name": "stdout",
     "output_type": "stream",
     "text": [
      "root\n",
      " |-- pickup_datetime: timestamp (nullable = true)"
     ]
    }
   ],
   "source": [
    "df_spark_uber_taxi_count.printSchema()"
   ]
  },
  {
   "cell_type": "code",
   "execution_count": 45,
   "metadata": {},
   "outputs": [
    {
     "data": {
      "application/vnd.jupyter.widget-view+json": {
       "model_id": "5d5c7ffbebc8463e86ee5cddc4082a09",
       "version_major": 2,
       "version_minor": 0
      },
      "text/plain": [
       "VBox()"
      ]
     },
     "metadata": {},
     "output_type": "display_data"
    },
    {
     "data": {
      "application/vnd.jupyter.widget-view+json": {
       "model_id": "",
       "version_major": 2,
       "version_minor": 0
      },
      "text/plain": [
       "FloatProgress(value=0.0, bar_style='info', description='Progress:', layout=Layout(height='25px', width='50%'),…"
      ]
     },
     "metadata": {},
     "output_type": "display_data"
    },
    {
     "name": "stdout",
     "output_type": "stream",
     "text": [
      "[Row(pickup_datetime=datetime.datetime(2020, 2, 1, 0, 6, 20)), Row(pickup_datetime=datetime.datetime(2020, 2, 1, 0, 27, 49)), Row(pickup_datetime=datetime.datetime(2020, 2, 1, 0, 47, 37)), Row(pickup_datetime=datetime.datetime(2020, 2, 1, 0, 10, 26)), Row(pickup_datetime=datetime.datetime(2020, 2, 1, 0, 48, 56))]"
     ]
    }
   ],
   "source": [
    "df_spark_uber_taxi_count.take(5)"
   ]
  },
  {
   "cell_type": "markdown",
   "metadata": {},
   "source": [
    "We will change the pickup_datetime colum from TimestampType type to DateType type with the following code."
   ]
  },
  {
   "cell_type": "code",
   "execution_count": 46,
   "metadata": {},
   "outputs": [
    {
     "data": {
      "application/vnd.jupyter.widget-view+json": {
       "model_id": "d8c470c0028a4b9a8480bdbd10bfa8d2",
       "version_major": 2,
       "version_minor": 0
      },
      "text/plain": [
       "VBox()"
      ]
     },
     "metadata": {},
     "output_type": "display_data"
    },
    {
     "data": {
      "application/vnd.jupyter.widget-view+json": {
       "model_id": "",
       "version_major": 2,
       "version_minor": 0
      },
      "text/plain": [
       "FloatProgress(value=0.0, bar_style='info', description='Progress:', layout=Layout(height='25px', width='50%'),…"
      ]
     },
     "metadata": {},
     "output_type": "display_data"
    }
   ],
   "source": [
    "df_spark_uber_taxi_count = df_spark_uber_taxi_count.withColumn(\"pickup_datetime\", df_spark_uber_taxi_count[\"pickup_datetime\"].cast(DateType()))"
   ]
  },
  {
   "cell_type": "code",
   "execution_count": 47,
   "metadata": {},
   "outputs": [
    {
     "data": {
      "application/vnd.jupyter.widget-view+json": {
       "model_id": "4609064cb73342be8985a5cc0ade878d",
       "version_major": 2,
       "version_minor": 0
      },
      "text/plain": [
       "VBox()"
      ]
     },
     "metadata": {},
     "output_type": "display_data"
    },
    {
     "data": {
      "application/vnd.jupyter.widget-view+json": {
       "model_id": "",
       "version_major": 2,
       "version_minor": 0
      },
      "text/plain": [
       "FloatProgress(value=0.0, bar_style='info', description='Progress:', layout=Layout(height='25px', width='50%'),…"
      ]
     },
     "metadata": {},
     "output_type": "display_data"
    },
    {
     "name": "stdout",
     "output_type": "stream",
     "text": [
      "root\n",
      " |-- pickup_datetime: date (nullable = true)"
     ]
    }
   ],
   "source": [
    "df_spark_uber_taxi_count.printSchema()"
   ]
  },
  {
   "cell_type": "code",
   "execution_count": 48,
   "metadata": {},
   "outputs": [
    {
     "data": {
      "application/vnd.jupyter.widget-view+json": {
       "model_id": "63212cab45db4492908bc10a53d23759",
       "version_major": 2,
       "version_minor": 0
      },
      "text/plain": [
       "VBox()"
      ]
     },
     "metadata": {},
     "output_type": "display_data"
    },
    {
     "data": {
      "application/vnd.jupyter.widget-view+json": {
       "model_id": "",
       "version_major": 2,
       "version_minor": 0
      },
      "text/plain": [
       "FloatProgress(value=0.0, bar_style='info', description='Progress:', layout=Layout(height='25px', width='50%'),…"
      ]
     },
     "metadata": {},
     "output_type": "display_data"
    },
    {
     "name": "stdout",
     "output_type": "stream",
     "text": [
      "[Row(pickup_datetime=datetime.date(2020, 2, 1)), Row(pickup_datetime=datetime.date(2020, 2, 1)), Row(pickup_datetime=datetime.date(2020, 2, 1)), Row(pickup_datetime=datetime.date(2020, 2, 1)), Row(pickup_datetime=datetime.date(2020, 2, 1))]"
     ]
    }
   ],
   "source": [
    "df_spark_uber_taxi_count.take(5)"
   ]
  },
  {
   "cell_type": "markdown",
   "metadata": {},
   "source": [
    "We will identify missing values with the following code."
   ]
  },
  {
   "cell_type": "code",
   "execution_count": 49,
   "metadata": {},
   "outputs": [
    {
     "data": {
      "application/vnd.jupyter.widget-view+json": {
       "model_id": "e57a858574024a07b977f2d3ba959628",
       "version_major": 2,
       "version_minor": 0
      },
      "text/plain": [
       "VBox()"
      ]
     },
     "metadata": {},
     "output_type": "display_data"
    },
    {
     "data": {
      "application/vnd.jupyter.widget-view+json": {
       "model_id": "",
       "version_major": 2,
       "version_minor": 0
      },
      "text/plain": [
       "FloatProgress(value=0.0, bar_style='info', description='Progress:', layout=Layout(height='25px', width='50%'),…"
      ]
     },
     "metadata": {},
     "output_type": "display_data"
    },
    {
     "name": "stdout",
     "output_type": "stream",
     "text": [
      "[]"
     ]
    }
   ],
   "source": [
    "df_spark_uber_taxi_count.where(col(\"pickup_datetime\").isNull()).take(5)"
   ]
  },
  {
   "cell_type": "markdown",
   "metadata": {},
   "source": [
    "There are no null values in the pickup_datetime column in this case it is not necessary to delete the missing values. Then, we will calculate the count of uber taxi trips with the following code."
   ]
  },
  {
   "cell_type": "code",
   "execution_count": 50,
   "metadata": {},
   "outputs": [
    {
     "data": {
      "application/vnd.jupyter.widget-view+json": {
       "model_id": "86b8340208be4eb89c0418b05708def5",
       "version_major": 2,
       "version_minor": 0
      },
      "text/plain": [
       "VBox()"
      ]
     },
     "metadata": {},
     "output_type": "display_data"
    },
    {
     "data": {
      "application/vnd.jupyter.widget-view+json": {
       "model_id": "",
       "version_major": 2,
       "version_minor": 0
      },
      "text/plain": [
       "FloatProgress(value=0.0, bar_style='info', description='Progress:', layout=Layout(height='25px', width='50%'),…"
      ]
     },
     "metadata": {},
     "output_type": "display_data"
    }
   ],
   "source": [
    "df_spark_uber_taxi_count =  df_spark_uber_taxi_count.groupBy('pickup_datetime').count()"
   ]
  },
  {
   "cell_type": "code",
   "execution_count": 51,
   "metadata": {},
   "outputs": [
    {
     "data": {
      "application/vnd.jupyter.widget-view+json": {
       "model_id": "cc63153742bb42e49b2f9eddbc0c3485",
       "version_major": 2,
       "version_minor": 0
      },
      "text/plain": [
       "VBox()"
      ]
     },
     "metadata": {},
     "output_type": "display_data"
    },
    {
     "data": {
      "application/vnd.jupyter.widget-view+json": {
       "model_id": "",
       "version_major": 2,
       "version_minor": 0
      },
      "text/plain": [
       "FloatProgress(value=0.0, bar_style='info', description='Progress:', layout=Layout(height='25px', width='50%'),…"
      ]
     },
     "metadata": {},
     "output_type": "display_data"
    },
    {
     "name": "stdout",
     "output_type": "stream",
     "text": [
      "+---------------+------+\n",
      "|pickup_datetime| count|\n",
      "+---------------+------+\n",
      "|     2020-04-30|128397|\n",
      "|     2020-03-07|641273|\n",
      "|     2020-03-13|466869|\n",
      "|     2020-02-15|627477|\n",
      "|     2020-02-04|455434|\n",
      "|     2020-05-23|143010|\n",
      "|     2020-02-12|493095|\n",
      "|     2020-05-08|150325|\n",
      "|     2020-06-04|134098|\n",
      "|     2020-05-24|134702|\n",
      "|     2020-04-29|118377|\n",
      "|     2020-05-10|131154|\n",
      "|     2020-04-26| 94219|\n",
      "|     2020-04-21|105946|\n",
      "|     2020-03-09|459584|\n",
      "|     2020-03-10|458998|\n",
      "|     2020-03-11|448862|\n",
      "|     2020-04-19| 92133|\n",
      "|     2020-06-05|144314|\n",
      "|     2020-02-11|474745|\n",
      "+---------------+------+\n",
      "only showing top 20 rows"
     ]
    }
   ],
   "source": [
    "df_spark_uber_taxi_count.show()"
   ]
  },
  {
   "cell_type": "markdown",
   "metadata": {},
   "source": [
    "Next, we will calculate the count of lyft taxi trips."
   ]
  },
  {
   "cell_type": "code",
   "execution_count": 52,
   "metadata": {},
   "outputs": [
    {
     "data": {
      "application/vnd.jupyter.widget-view+json": {
       "model_id": "45daa13d279a4413b0b0e6e454e3c1c4",
       "version_major": 2,
       "version_minor": 0
      },
      "text/plain": [
       "VBox()"
      ]
     },
     "metadata": {},
     "output_type": "display_data"
    },
    {
     "data": {
      "application/vnd.jupyter.widget-view+json": {
       "model_id": "",
       "version_major": 2,
       "version_minor": 0
      },
      "text/plain": [
       "FloatProgress(value=0.0, bar_style='info', description='Progress:', layout=Layout(height='25px', width='50%'),…"
      ]
     },
     "metadata": {},
     "output_type": "display_data"
    }
   ],
   "source": [
    "df_spark_lyft_taxi = df_spark_uber_lyft_taxi.where(col(\"hvfhs_license_num\") == \"HV0005\").select(\"pickup_datetime\")"
   ]
  },
  {
   "cell_type": "code",
   "execution_count": 53,
   "metadata": {},
   "outputs": [
    {
     "data": {
      "application/vnd.jupyter.widget-view+json": {
       "model_id": "d4d6e6734fc94378bc547e28da23d42f",
       "version_major": 2,
       "version_minor": 0
      },
      "text/plain": [
       "VBox()"
      ]
     },
     "metadata": {},
     "output_type": "display_data"
    },
    {
     "data": {
      "application/vnd.jupyter.widget-view+json": {
       "model_id": "",
       "version_major": 2,
       "version_minor": 0
      },
      "text/plain": [
       "FloatProgress(value=0.0, bar_style='info', description='Progress:', layout=Layout(height='25px', width='50%'),…"
      ]
     },
     "metadata": {},
     "output_type": "display_data"
    },
    {
     "name": "stdout",
     "output_type": "stream",
     "text": [
      "root\n",
      " |-- pickup_datetime: string (nullable = true)"
     ]
    }
   ],
   "source": [
    "df_spark_lyft_taxi.printSchema()"
   ]
  },
  {
   "cell_type": "code",
   "execution_count": 54,
   "metadata": {},
   "outputs": [
    {
     "data": {
      "application/vnd.jupyter.widget-view+json": {
       "model_id": "511ae5de60174785ac3b89506958ea33",
       "version_major": 2,
       "version_minor": 0
      },
      "text/plain": [
       "VBox()"
      ]
     },
     "metadata": {},
     "output_type": "display_data"
    },
    {
     "data": {
      "application/vnd.jupyter.widget-view+json": {
       "model_id": "",
       "version_major": 2,
       "version_minor": 0
      },
      "text/plain": [
       "FloatProgress(value=0.0, bar_style='info', description='Progress:', layout=Layout(height='25px', width='50%'),…"
      ]
     },
     "metadata": {},
     "output_type": "display_data"
    },
    {
     "name": "stdout",
     "output_type": "stream",
     "text": [
      "[Row(pickup_datetime='2020-02-01 00:10:24'), Row(pickup_datetime='2020-02-01 00:10:32'), Row(pickup_datetime='2020-02-01 00:12:56'), Row(pickup_datetime='2020-02-01 00:31:21'), Row(pickup_datetime='2020-02-01 00:44:41')]"
     ]
    }
   ],
   "source": [
    "df_spark_lyft_taxi.take(5)"
   ]
  },
  {
   "cell_type": "code",
   "execution_count": 55,
   "metadata": {},
   "outputs": [
    {
     "data": {
      "application/vnd.jupyter.widget-view+json": {
       "model_id": "cc37ac832af04ba2a2acbac6c26b2270",
       "version_major": 2,
       "version_minor": 0
      },
      "text/plain": [
       "VBox()"
      ]
     },
     "metadata": {},
     "output_type": "display_data"
    },
    {
     "data": {
      "application/vnd.jupyter.widget-view+json": {
       "model_id": "",
       "version_major": 2,
       "version_minor": 0
      },
      "text/plain": [
       "FloatProgress(value=0.0, bar_style='info', description='Progress:', layout=Layout(height='25px', width='50%'),…"
      ]
     },
     "metadata": {},
     "output_type": "display_data"
    },
    {
     "name": "stdout",
     "output_type": "stream",
     "text": [
      "13635111"
     ]
    }
   ],
   "source": [
    "df_spark_lyft_taxi.count()"
   ]
  },
  {
   "cell_type": "markdown",
   "metadata": {},
   "source": [
    "There are 13 and a half millions of rows.\n",
    "\n",
    "We will change the pickup_datetime colum from string type to TimestampType type with the following code."
   ]
  },
  {
   "cell_type": "code",
   "execution_count": 56,
   "metadata": {},
   "outputs": [
    {
     "data": {
      "application/vnd.jupyter.widget-view+json": {
       "model_id": "f12a0bfcab324596bfd744b3613530e8",
       "version_major": 2,
       "version_minor": 0
      },
      "text/plain": [
       "VBox()"
      ]
     },
     "metadata": {},
     "output_type": "display_data"
    },
    {
     "data": {
      "application/vnd.jupyter.widget-view+json": {
       "model_id": "",
       "version_major": 2,
       "version_minor": 0
      },
      "text/plain": [
       "FloatProgress(value=0.0, bar_style='info', description='Progress:', layout=Layout(height='25px', width='50%'),…"
      ]
     },
     "metadata": {},
     "output_type": "display_data"
    }
   ],
   "source": [
    "df_spark_lyft_taxi_count = df_spark_lyft_taxi.withColumn(\"pickup_datetime\", df_spark_lyft_taxi[\"pickup_datetime\"].cast(TimestampType()))"
   ]
  },
  {
   "cell_type": "code",
   "execution_count": 57,
   "metadata": {},
   "outputs": [
    {
     "data": {
      "application/vnd.jupyter.widget-view+json": {
       "model_id": "f4bf32b3fbc74bf99f760561f233b096",
       "version_major": 2,
       "version_minor": 0
      },
      "text/plain": [
       "VBox()"
      ]
     },
     "metadata": {},
     "output_type": "display_data"
    },
    {
     "data": {
      "application/vnd.jupyter.widget-view+json": {
       "model_id": "",
       "version_major": 2,
       "version_minor": 0
      },
      "text/plain": [
       "FloatProgress(value=0.0, bar_style='info', description='Progress:', layout=Layout(height='25px', width='50%'),…"
      ]
     },
     "metadata": {},
     "output_type": "display_data"
    },
    {
     "name": "stdout",
     "output_type": "stream",
     "text": [
      "root\n",
      " |-- pickup_datetime: timestamp (nullable = true)"
     ]
    }
   ],
   "source": [
    "df_spark_lyft_taxi_count.printSchema()"
   ]
  },
  {
   "cell_type": "code",
   "execution_count": 58,
   "metadata": {},
   "outputs": [
    {
     "data": {
      "application/vnd.jupyter.widget-view+json": {
       "model_id": "f751c85989314aec9ced099b4f5457d8",
       "version_major": 2,
       "version_minor": 0
      },
      "text/plain": [
       "VBox()"
      ]
     },
     "metadata": {},
     "output_type": "display_data"
    },
    {
     "data": {
      "application/vnd.jupyter.widget-view+json": {
       "model_id": "",
       "version_major": 2,
       "version_minor": 0
      },
      "text/plain": [
       "FloatProgress(value=0.0, bar_style='info', description='Progress:', layout=Layout(height='25px', width='50%'),…"
      ]
     },
     "metadata": {},
     "output_type": "display_data"
    },
    {
     "name": "stdout",
     "output_type": "stream",
     "text": [
      "[Row(pickup_datetime=datetime.datetime(2020, 2, 1, 0, 10, 24)), Row(pickup_datetime=datetime.datetime(2020, 2, 1, 0, 10, 32)), Row(pickup_datetime=datetime.datetime(2020, 2, 1, 0, 12, 56)), Row(pickup_datetime=datetime.datetime(2020, 2, 1, 0, 31, 21)), Row(pickup_datetime=datetime.datetime(2020, 2, 1, 0, 44, 41))]"
     ]
    }
   ],
   "source": [
    "df_spark_lyft_taxi_count.take(5)"
   ]
  },
  {
   "cell_type": "markdown",
   "metadata": {},
   "source": [
    "We will change the pickup_datetime colum from TimestampType type to DateType type with the following code."
   ]
  },
  {
   "cell_type": "code",
   "execution_count": 59,
   "metadata": {},
   "outputs": [
    {
     "data": {
      "application/vnd.jupyter.widget-view+json": {
       "model_id": "bdab94843d164b5d9fdf4660e700b28b",
       "version_major": 2,
       "version_minor": 0
      },
      "text/plain": [
       "VBox()"
      ]
     },
     "metadata": {},
     "output_type": "display_data"
    },
    {
     "data": {
      "application/vnd.jupyter.widget-view+json": {
       "model_id": "",
       "version_major": 2,
       "version_minor": 0
      },
      "text/plain": [
       "FloatProgress(value=0.0, bar_style='info', description='Progress:', layout=Layout(height='25px', width='50%'),…"
      ]
     },
     "metadata": {},
     "output_type": "display_data"
    }
   ],
   "source": [
    "df_spark_lyft_taxi_count = df_spark_lyft_taxi_count.withColumn(\"pickup_datetime\", df_spark_lyft_taxi_count[\"pickup_datetime\"].cast(DateType()))"
   ]
  },
  {
   "cell_type": "code",
   "execution_count": 60,
   "metadata": {},
   "outputs": [
    {
     "data": {
      "application/vnd.jupyter.widget-view+json": {
       "model_id": "70f197c160664e6da2a28a1b9a0c391b",
       "version_major": 2,
       "version_minor": 0
      },
      "text/plain": [
       "VBox()"
      ]
     },
     "metadata": {},
     "output_type": "display_data"
    },
    {
     "data": {
      "application/vnd.jupyter.widget-view+json": {
       "model_id": "",
       "version_major": 2,
       "version_minor": 0
      },
      "text/plain": [
       "FloatProgress(value=0.0, bar_style='info', description='Progress:', layout=Layout(height='25px', width='50%'),…"
      ]
     },
     "metadata": {},
     "output_type": "display_data"
    },
    {
     "name": "stdout",
     "output_type": "stream",
     "text": [
      "root\n",
      " |-- pickup_datetime: date (nullable = true)"
     ]
    }
   ],
   "source": [
    "df_spark_lyft_taxi_count.printSchema()"
   ]
  },
  {
   "cell_type": "code",
   "execution_count": 61,
   "metadata": {},
   "outputs": [
    {
     "data": {
      "application/vnd.jupyter.widget-view+json": {
       "model_id": "f4f9f6ca6f85485e80f2150d3c4b7ea9",
       "version_major": 2,
       "version_minor": 0
      },
      "text/plain": [
       "VBox()"
      ]
     },
     "metadata": {},
     "output_type": "display_data"
    },
    {
     "data": {
      "application/vnd.jupyter.widget-view+json": {
       "model_id": "",
       "version_major": 2,
       "version_minor": 0
      },
      "text/plain": [
       "FloatProgress(value=0.0, bar_style='info', description='Progress:', layout=Layout(height='25px', width='50%'),…"
      ]
     },
     "metadata": {},
     "output_type": "display_data"
    },
    {
     "name": "stdout",
     "output_type": "stream",
     "text": [
      "[Row(pickup_datetime=datetime.date(2020, 2, 1)), Row(pickup_datetime=datetime.date(2020, 2, 1)), Row(pickup_datetime=datetime.date(2020, 2, 1)), Row(pickup_datetime=datetime.date(2020, 2, 1)), Row(pickup_datetime=datetime.date(2020, 2, 1))]"
     ]
    }
   ],
   "source": [
    "df_spark_lyft_taxi_count.take(5)"
   ]
  },
  {
   "cell_type": "markdown",
   "metadata": {},
   "source": [
    "We will identify missing values with the following code."
   ]
  },
  {
   "cell_type": "code",
   "execution_count": 62,
   "metadata": {},
   "outputs": [
    {
     "data": {
      "application/vnd.jupyter.widget-view+json": {
       "model_id": "609b64389dfb47ea8f20a78f32f780cc",
       "version_major": 2,
       "version_minor": 0
      },
      "text/plain": [
       "VBox()"
      ]
     },
     "metadata": {},
     "output_type": "display_data"
    },
    {
     "data": {
      "application/vnd.jupyter.widget-view+json": {
       "model_id": "",
       "version_major": 2,
       "version_minor": 0
      },
      "text/plain": [
       "FloatProgress(value=0.0, bar_style='info', description='Progress:', layout=Layout(height='25px', width='50%'),…"
      ]
     },
     "metadata": {},
     "output_type": "display_data"
    },
    {
     "name": "stdout",
     "output_type": "stream",
     "text": [
      "[]"
     ]
    }
   ],
   "source": [
    "df_spark_lyft_taxi_count.where(col(\"pickup_datetime\").isNull()).take(5)"
   ]
  },
  {
   "cell_type": "markdown",
   "metadata": {},
   "source": [
    "There are no null values in the pickup_datetime column in this case it is not necessary to delete the missing values. Then, we will calculate the count of lyft taxi trips with the following code.\n"
   ]
  },
  {
   "cell_type": "code",
   "execution_count": 63,
   "metadata": {},
   "outputs": [
    {
     "data": {
      "application/vnd.jupyter.widget-view+json": {
       "model_id": "3fce7d52b51b4856972fd3f61fb90544",
       "version_major": 2,
       "version_minor": 0
      },
      "text/plain": [
       "VBox()"
      ]
     },
     "metadata": {},
     "output_type": "display_data"
    },
    {
     "data": {
      "application/vnd.jupyter.widget-view+json": {
       "model_id": "",
       "version_major": 2,
       "version_minor": 0
      },
      "text/plain": [
       "FloatProgress(value=0.0, bar_style='info', description='Progress:', layout=Layout(height='25px', width='50%'),…"
      ]
     },
     "metadata": {},
     "output_type": "display_data"
    }
   ],
   "source": [
    "df_spark_lyft_taxi_count =  df_spark_lyft_taxi_count.groupBy('pickup_datetime').count()"
   ]
  },
  {
   "cell_type": "code",
   "execution_count": 64,
   "metadata": {},
   "outputs": [
    {
     "data": {
      "application/vnd.jupyter.widget-view+json": {
       "model_id": "d7ca33c4f8664f05a46b6f357213a3f0",
       "version_major": 2,
       "version_minor": 0
      },
      "text/plain": [
       "VBox()"
      ]
     },
     "metadata": {},
     "output_type": "display_data"
    },
    {
     "data": {
      "application/vnd.jupyter.widget-view+json": {
       "model_id": "",
       "version_major": 2,
       "version_minor": 0
      },
      "text/plain": [
       "FloatProgress(value=0.0, bar_style='info', description='Progress:', layout=Layout(height='25px', width='50%'),…"
      ]
     },
     "metadata": {},
     "output_type": "display_data"
    },
    {
     "name": "stdout",
     "output_type": "stream",
     "text": [
      "+---------------+------+\n",
      "|pickup_datetime| count|\n",
      "+---------------+------+\n",
      "|     2020-04-30| 43460|\n",
      "|     2020-03-13|178447|\n",
      "|     2020-03-07|226778|\n",
      "|     2020-02-15|243454|\n",
      "|     2020-02-04|140767|\n",
      "|     2020-05-23| 53421|\n",
      "|     2020-02-12|157806|\n",
      "|     2020-05-08| 51373|\n",
      "|     2020-06-04| 60824|\n",
      "|     2020-05-24| 53527|\n",
      "|     2020-04-29| 41142|\n",
      "|     2020-05-10| 51271|\n",
      "|     2020-04-26| 39685|\n",
      "|     2020-04-21| 40546|\n",
      "|     2020-03-09|147601|\n",
      "|     2020-03-10|144810|\n",
      "|     2020-03-11|158213|\n",
      "|     2020-04-19| 38481|\n",
      "|     2020-06-05| 60517|\n",
      "|     2020-06-17| 82148|\n",
      "+---------------+------+\n",
      "only showing top 20 rows"
     ]
    }
   ],
   "source": [
    "df_spark_lyft_taxi_count.show()"
   ]
  },
  {
   "cell_type": "markdown",
   "metadata": {},
   "source": [
    "Finally, we will prepare the covid data."
   ]
  },
  {
   "cell_type": "code",
   "execution_count": 65,
   "metadata": {},
   "outputs": [
    {
     "data": {
      "application/vnd.jupyter.widget-view+json": {
       "model_id": "28244baa3f824433a870143f44c9a788",
       "version_major": 2,
       "version_minor": 0
      },
      "text/plain": [
       "VBox()"
      ]
     },
     "metadata": {},
     "output_type": "display_data"
    },
    {
     "data": {
      "application/vnd.jupyter.widget-view+json": {
       "model_id": "",
       "version_major": 2,
       "version_minor": 0
      },
      "text/plain": [
       "FloatProgress(value=0.0, bar_style='info', description='Progress:', layout=Layout(height='25px', width='50%'),…"
      ]
     },
     "metadata": {},
     "output_type": "display_data"
    },
    {
     "name": "stdout",
     "output_type": "stream",
     "text": [
      "root\n",
      " |-- DATE_OF_INTEREST: string (nullable = true)\n",
      " |-- CASE_COUNT: string (nullable = true)\n",
      " |-- HOSPITALIZED_COUNT: string (nullable = true)\n",
      " |-- DEATH_COUNT: string (nullable = true)\n",
      " |-- CASE_COUNT_7DAY_AVG: string (nullable = true)\n",
      " |-- INCOMPLETE: string (nullable = true)"
     ]
    }
   ],
   "source": [
    "df_spark_covid.printSchema()"
   ]
  },
  {
   "cell_type": "code",
   "execution_count": 66,
   "metadata": {},
   "outputs": [
    {
     "data": {
      "application/vnd.jupyter.widget-view+json": {
       "model_id": "2855be963e23450ca2686de54c88b837",
       "version_major": 2,
       "version_minor": 0
      },
      "text/plain": [
       "VBox()"
      ]
     },
     "metadata": {},
     "output_type": "display_data"
    },
    {
     "data": {
      "application/vnd.jupyter.widget-view+json": {
       "model_id": "",
       "version_major": 2,
       "version_minor": 0
      },
      "text/plain": [
       "FloatProgress(value=0.0, bar_style='info', description='Progress:', layout=Layout(height='25px', width='50%'),…"
      ]
     },
     "metadata": {},
     "output_type": "display_data"
    },
    {
     "name": "stdout",
     "output_type": "stream",
     "text": [
      "[Row(DATE_OF_INTEREST='02/29/2020', CASE_COUNT='1', HOSPITALIZED_COUNT='11', DEATH_COUNT='0', CASE_COUNT_7DAY_AVG=None, INCOMPLETE=None), Row(DATE_OF_INTEREST='03/01/2020', CASE_COUNT='0', HOSPITALIZED_COUNT='4', DEATH_COUNT='0', CASE_COUNT_7DAY_AVG=None, INCOMPLETE=None), Row(DATE_OF_INTEREST='03/02/2020', CASE_COUNT='0', HOSPITALIZED_COUNT='21', DEATH_COUNT='0', CASE_COUNT_7DAY_AVG=None, INCOMPLETE=None), Row(DATE_OF_INTEREST='03/03/2020', CASE_COUNT='2', HOSPITALIZED_COUNT='20', DEATH_COUNT='0', CASE_COUNT_7DAY_AVG=None, INCOMPLETE=None), Row(DATE_OF_INTEREST='03/04/2020', CASE_COUNT='5', HOSPITALIZED_COUNT='22', DEATH_COUNT='0', CASE_COUNT_7DAY_AVG=None, INCOMPLETE=None)]"
     ]
    }
   ],
   "source": [
    "df_spark_covid.take(5)"
   ]
  },
  {
   "cell_type": "code",
   "execution_count": 67,
   "metadata": {},
   "outputs": [
    {
     "data": {
      "application/vnd.jupyter.widget-view+json": {
       "model_id": "49e1138b23d743429c07c54bdcca02c2",
       "version_major": 2,
       "version_minor": 0
      },
      "text/plain": [
       "VBox()"
      ]
     },
     "metadata": {},
     "output_type": "display_data"
    },
    {
     "data": {
      "application/vnd.jupyter.widget-view+json": {
       "model_id": "",
       "version_major": 2,
       "version_minor": 0
      },
      "text/plain": [
       "FloatProgress(value=0.0, bar_style='info', description='Progress:', layout=Layout(height='25px', width='50%'),…"
      ]
     },
     "metadata": {},
     "output_type": "display_data"
    }
   ],
   "source": [
    "df_spark_covid_count = df_spark_covid.select([\"CASE_COUNT\", \"DATE_OF_INTEREST\"])"
   ]
  },
  {
   "cell_type": "code",
   "execution_count": 68,
   "metadata": {},
   "outputs": [
    {
     "data": {
      "application/vnd.jupyter.widget-view+json": {
       "model_id": "7010b24c674143bb8366fb1ffa8176bd",
       "version_major": 2,
       "version_minor": 0
      },
      "text/plain": [
       "VBox()"
      ]
     },
     "metadata": {},
     "output_type": "display_data"
    },
    {
     "data": {
      "application/vnd.jupyter.widget-view+json": {
       "model_id": "",
       "version_major": 2,
       "version_minor": 0
      },
      "text/plain": [
       "FloatProgress(value=0.0, bar_style='info', description='Progress:', layout=Layout(height='25px', width='50%'),…"
      ]
     },
     "metadata": {},
     "output_type": "display_data"
    },
    {
     "name": "stdout",
     "output_type": "stream",
     "text": [
      "root\n",
      " |-- CASE_COUNT: string (nullable = true)\n",
      " |-- DATE_OF_INTEREST: string (nullable = true)"
     ]
    }
   ],
   "source": [
    "df_spark_covid_count.printSchema()"
   ]
  },
  {
   "cell_type": "code",
   "execution_count": 69,
   "metadata": {},
   "outputs": [
    {
     "data": {
      "application/vnd.jupyter.widget-view+json": {
       "model_id": "718ab39f23604a27a1358afda5902a60",
       "version_major": 2,
       "version_minor": 0
      },
      "text/plain": [
       "VBox()"
      ]
     },
     "metadata": {},
     "output_type": "display_data"
    },
    {
     "data": {
      "application/vnd.jupyter.widget-view+json": {
       "model_id": "",
       "version_major": 2,
       "version_minor": 0
      },
      "text/plain": [
       "FloatProgress(value=0.0, bar_style='info', description='Progress:', layout=Layout(height='25px', width='50%'),…"
      ]
     },
     "metadata": {},
     "output_type": "display_data"
    }
   ],
   "source": [
    "df_spark_covid_count = df_spark_covid_count.withColumn(\"DATE_OF_INTEREST\", from_unixtime(unix_timestamp('DATE_OF_INTEREST', 'MM/dd/yyy')) )\n",
    "df_spark_covid_count = df_spark_covid_count.withColumn(\"CASE_COUNT\", df_spark_covid_count[\"CASE_COUNT\"].cast(IntegerType()))"
   ]
  },
  {
   "cell_type": "code",
   "execution_count": 70,
   "metadata": {},
   "outputs": [
    {
     "data": {
      "application/vnd.jupyter.widget-view+json": {
       "model_id": "9c55bfcbfb43406582efeebc3a647f27",
       "version_major": 2,
       "version_minor": 0
      },
      "text/plain": [
       "VBox()"
      ]
     },
     "metadata": {},
     "output_type": "display_data"
    },
    {
     "data": {
      "application/vnd.jupyter.widget-view+json": {
       "model_id": "",
       "version_major": 2,
       "version_minor": 0
      },
      "text/plain": [
       "FloatProgress(value=0.0, bar_style='info', description='Progress:', layout=Layout(height='25px', width='50%'),…"
      ]
     },
     "metadata": {},
     "output_type": "display_data"
    },
    {
     "name": "stdout",
     "output_type": "stream",
     "text": [
      "root\n",
      " |-- CASE_COUNT: integer (nullable = true)\n",
      " |-- DATE_OF_INTEREST: string (nullable = true)"
     ]
    }
   ],
   "source": [
    "df_spark_covid_count.printSchema()"
   ]
  },
  {
   "cell_type": "code",
   "execution_count": 71,
   "metadata": {},
   "outputs": [
    {
     "data": {
      "application/vnd.jupyter.widget-view+json": {
       "model_id": "ad2aa0246f7146a58c3be3b7ca21d7ac",
       "version_major": 2,
       "version_minor": 0
      },
      "text/plain": [
       "VBox()"
      ]
     },
     "metadata": {},
     "output_type": "display_data"
    },
    {
     "data": {
      "application/vnd.jupyter.widget-view+json": {
       "model_id": "",
       "version_major": 2,
       "version_minor": 0
      },
      "text/plain": [
       "FloatProgress(value=0.0, bar_style='info', description='Progress:', layout=Layout(height='25px', width='50%'),…"
      ]
     },
     "metadata": {},
     "output_type": "display_data"
    },
    {
     "name": "stdout",
     "output_type": "stream",
     "text": [
      "[Row(CASE_COUNT=1, DATE_OF_INTEREST='2020-02-29 00:00:00'), Row(CASE_COUNT=0, DATE_OF_INTEREST='2020-03-01 00:00:00'), Row(CASE_COUNT=0, DATE_OF_INTEREST='2020-03-02 00:00:00'), Row(CASE_COUNT=2, DATE_OF_INTEREST='2020-03-03 00:00:00'), Row(CASE_COUNT=5, DATE_OF_INTEREST='2020-03-04 00:00:00')]"
     ]
    }
   ],
   "source": [
    "df_spark_covid_count.take(5)"
   ]
  },
  {
   "cell_type": "code",
   "execution_count": 72,
   "metadata": {},
   "outputs": [
    {
     "data": {
      "application/vnd.jupyter.widget-view+json": {
       "model_id": "0ee4d0191c4d4707a5291998396417ae",
       "version_major": 2,
       "version_minor": 0
      },
      "text/plain": [
       "VBox()"
      ]
     },
     "metadata": {},
     "output_type": "display_data"
    },
    {
     "data": {
      "application/vnd.jupyter.widget-view+json": {
       "model_id": "",
       "version_major": 2,
       "version_minor": 0
      },
      "text/plain": [
       "FloatProgress(value=0.0, bar_style='info', description='Progress:', layout=Layout(height='25px', width='50%'),…"
      ]
     },
     "metadata": {},
     "output_type": "display_data"
    }
   ],
   "source": [
    "df_spark_covid_count = df_spark_covid_count.withColumn(\"DATE_OF_INTEREST\", df_spark_covid_count[\"DATE_OF_INTEREST\"].cast(TimestampType()))\n",
    "df_spark_covid_count = df_spark_covid_count.withColumn(\"DATE_OF_INTEREST\", df_spark_covid_count[\"DATE_OF_INTEREST\"].cast(DateType()))"
   ]
  },
  {
   "cell_type": "code",
   "execution_count": 73,
   "metadata": {},
   "outputs": [
    {
     "data": {
      "application/vnd.jupyter.widget-view+json": {
       "model_id": "c3482b7f34544e489742fadf451ea69e",
       "version_major": 2,
       "version_minor": 0
      },
      "text/plain": [
       "VBox()"
      ]
     },
     "metadata": {},
     "output_type": "display_data"
    },
    {
     "data": {
      "application/vnd.jupyter.widget-view+json": {
       "model_id": "",
       "version_major": 2,
       "version_minor": 0
      },
      "text/plain": [
       "FloatProgress(value=0.0, bar_style='info', description='Progress:', layout=Layout(height='25px', width='50%'),…"
      ]
     },
     "metadata": {},
     "output_type": "display_data"
    },
    {
     "name": "stdout",
     "output_type": "stream",
     "text": [
      "root\n",
      " |-- CASE_COUNT: integer (nullable = true)\n",
      " |-- DATE_OF_INTEREST: date (nullable = true)"
     ]
    }
   ],
   "source": [
    "df_spark_covid_count.printSchema()"
   ]
  },
  {
   "cell_type": "code",
   "execution_count": 74,
   "metadata": {},
   "outputs": [
    {
     "data": {
      "application/vnd.jupyter.widget-view+json": {
       "model_id": "001e32539a0a4920b678d1cdbe567422",
       "version_major": 2,
       "version_minor": 0
      },
      "text/plain": [
       "VBox()"
      ]
     },
     "metadata": {},
     "output_type": "display_data"
    },
    {
     "data": {
      "application/vnd.jupyter.widget-view+json": {
       "model_id": "",
       "version_major": 2,
       "version_minor": 0
      },
      "text/plain": [
       "FloatProgress(value=0.0, bar_style='info', description='Progress:', layout=Layout(height='25px', width='50%'),…"
      ]
     },
     "metadata": {},
     "output_type": "display_data"
    },
    {
     "name": "stdout",
     "output_type": "stream",
     "text": [
      "[Row(CASE_COUNT=1, DATE_OF_INTEREST=datetime.date(2020, 2, 29)), Row(CASE_COUNT=0, DATE_OF_INTEREST=datetime.date(2020, 3, 1)), Row(CASE_COUNT=0, DATE_OF_INTEREST=datetime.date(2020, 3, 2)), Row(CASE_COUNT=2, DATE_OF_INTEREST=datetime.date(2020, 3, 3)), Row(CASE_COUNT=5, DATE_OF_INTEREST=datetime.date(2020, 3, 4))]"
     ]
    }
   ],
   "source": [
    "df_spark_covid_count.take(5)"
   ]
  },
  {
   "cell_type": "markdown",
   "metadata": {},
   "source": [
    "In all datasets we will take only dates from 2020-02-29 to 2020-06-30. "
   ]
  },
  {
   "cell_type": "code",
   "execution_count": 75,
   "metadata": {},
   "outputs": [
    {
     "data": {
      "application/vnd.jupyter.widget-view+json": {
       "model_id": "804abbb202ea40d3a2bdf8264c064abd",
       "version_major": 2,
       "version_minor": 0
      },
      "text/plain": [
       "VBox()"
      ]
     },
     "metadata": {},
     "output_type": "display_data"
    },
    {
     "data": {
      "application/vnd.jupyter.widget-view+json": {
       "model_id": "",
       "version_major": 2,
       "version_minor": 0
      },
      "text/plain": [
       "FloatProgress(value=0.0, bar_style='info', description='Progress:', layout=Layout(height='25px', width='50%'),…"
      ]
     },
     "metadata": {},
     "output_type": "display_data"
    }
   ],
   "source": [
    "# good reference https://stackoverflow.com/questions/31407461/datetime-range-filter-in-pyspark-sql\n",
    "\n",
    "dates = (\"2020-02-29\",  \"2020-06-30\")\n",
    "date_from, date_to = [to_date(lit(s)).cast(DateType()) for s in dates]\n",
    "\n",
    "#sf.where((sf.my_col > date_from) & (sf.my_col < date_to))\n",
    "df_spark_yellow_taxi_count = df_spark_yellow_taxi_count.where( (df_spark_yellow_taxi_count.tpep_pickup_datetime > date_from) & (df_spark_yellow_taxi_count.tpep_pickup_datetime < date_to) )\n",
    "df_spark_green_taxi_count = df_spark_green_taxi_count.where( (df_spark_green_taxi_count.lpep_pickup_datetime > date_from) & (df_spark_green_taxi_count.lpep_pickup_datetime < date_to) )\n",
    "df_spark_uber_taxi_count = df_spark_uber_taxi_count.where( (df_spark_uber_taxi_count.pickup_datetime > date_from) & (df_spark_uber_taxi_count.pickup_datetime < date_to) )\n",
    "df_spark_lyft_taxi_count = df_spark_lyft_taxi_count.where( (df_spark_lyft_taxi_count.pickup_datetime > date_from) & (df_spark_lyft_taxi_count.pickup_datetime < date_to) )\n",
    "df_spark_covid_count = df_spark_covid_count.where( (df_spark_covid_count.DATE_OF_INTEREST > date_from)  & ( df_spark_covid_count.DATE_OF_INTEREST < date_to) )"
   ]
  },
  {
   "cell_type": "markdown",
   "metadata": {},
   "source": [
    "We will verify if the number of rows in df_spark_yellow_taxi_count, df_spark_green_taxi_count, df_spark_uber_taxi_count, and df_spark_lyft_taxi_count are greater than zero."
   ]
  },
  {
   "cell_type": "code",
   "execution_count": 76,
   "metadata": {},
   "outputs": [
    {
     "data": {
      "application/vnd.jupyter.widget-view+json": {
       "model_id": "c8304fba04de4c419a687f4f74138ff6",
       "version_major": 2,
       "version_minor": 0
      },
      "text/plain": [
       "VBox()"
      ]
     },
     "metadata": {},
     "output_type": "display_data"
    },
    {
     "data": {
      "application/vnd.jupyter.widget-view+json": {
       "model_id": "",
       "version_major": 2,
       "version_minor": 0
      },
      "text/plain": [
       "FloatProgress(value=0.0, bar_style='info', description='Progress:', layout=Layout(height='25px', width='50%'),…"
      ]
     },
     "metadata": {},
     "output_type": "display_data"
    },
    {
     "name": "stdout",
     "output_type": "stream",
     "text": [
      "121"
     ]
    }
   ],
   "source": [
    "print(df_spark_yellow_taxi_count.count())"
   ]
  },
  {
   "cell_type": "code",
   "execution_count": 77,
   "metadata": {},
   "outputs": [
    {
     "data": {
      "application/vnd.jupyter.widget-view+json": {
       "model_id": "616369167d784b9e858f65a0db3f79c1",
       "version_major": 2,
       "version_minor": 0
      },
      "text/plain": [
       "VBox()"
      ]
     },
     "metadata": {},
     "output_type": "display_data"
    },
    {
     "data": {
      "application/vnd.jupyter.widget-view+json": {
       "model_id": "",
       "version_major": 2,
       "version_minor": 0
      },
      "text/plain": [
       "FloatProgress(value=0.0, bar_style='info', description='Progress:', layout=Layout(height='25px', width='50%'),…"
      ]
     },
     "metadata": {},
     "output_type": "display_data"
    },
    {
     "name": "stdout",
     "output_type": "stream",
     "text": [
      "121"
     ]
    }
   ],
   "source": [
    "print(df_spark_green_taxi_count.count())"
   ]
  },
  {
   "cell_type": "code",
   "execution_count": 78,
   "metadata": {},
   "outputs": [
    {
     "data": {
      "application/vnd.jupyter.widget-view+json": {
       "model_id": "09eabe85d967471d9215ba34a1fe4bd9",
       "version_major": 2,
       "version_minor": 0
      },
      "text/plain": [
       "VBox()"
      ]
     },
     "metadata": {},
     "output_type": "display_data"
    },
    {
     "data": {
      "application/vnd.jupyter.widget-view+json": {
       "model_id": "",
       "version_major": 2,
       "version_minor": 0
      },
      "text/plain": [
       "FloatProgress(value=0.0, bar_style='info', description='Progress:', layout=Layout(height='25px', width='50%'),…"
      ]
     },
     "metadata": {},
     "output_type": "display_data"
    },
    {
     "name": "stdout",
     "output_type": "stream",
     "text": [
      "121"
     ]
    }
   ],
   "source": [
    "print(df_spark_uber_taxi_count.count())"
   ]
  },
  {
   "cell_type": "code",
   "execution_count": 79,
   "metadata": {},
   "outputs": [
    {
     "data": {
      "application/vnd.jupyter.widget-view+json": {
       "model_id": "c7ab558261a7489291bb31a7b5b14b83",
       "version_major": 2,
       "version_minor": 0
      },
      "text/plain": [
       "VBox()"
      ]
     },
     "metadata": {},
     "output_type": "display_data"
    },
    {
     "data": {
      "application/vnd.jupyter.widget-view+json": {
       "model_id": "",
       "version_major": 2,
       "version_minor": 0
      },
      "text/plain": [
       "FloatProgress(value=0.0, bar_style='info', description='Progress:', layout=Layout(height='25px', width='50%'),…"
      ]
     },
     "metadata": {},
     "output_type": "display_data"
    },
    {
     "name": "stdout",
     "output_type": "stream",
     "text": [
      "121"
     ]
    }
   ],
   "source": [
    "print(df_spark_lyft_taxi_count.count())"
   ]
  },
  {
   "cell_type": "markdown",
   "metadata": {},
   "source": [
    "### Step 3: Define the Data Model\n",
    "#### 3.1 Conceptual Data Model\n",
    "Map out the conceptual data model and explain why you chose that model. \n",
    "\n",
    "In order to combine the information of the df_spark_yellow_taxi_count, df_spark_green_taxi_count   df_spark_uber_taxi_count, and df_spark_lyft_taxi_count, we design the following Entity Relationship Model which is an abstract data model, that defines a data or information structure which can be implemented in a database, typically a relational database.  \n",
    "\n",
    "![entity relationship diagram](./erd.png)\n",
    "\n",
    "There are three entitys and 1 relation between the three entities. In the following table we will describe in more details the information provided in the entity relationship model.\n",
    "\n",
    "| Name | Type  | Description  |\n",
    "|------|-------|--------------|\n",
    "|     event|  entity    |  records the information of the event of interest which is covid-19. |\n",
    "|     economic_item |  entity    |  records the information of the economic item which can be: yellow taxi, green taxi, uber or lyft. |\n",
    "|     day_of_interest|  entity    |  a particular day of interest. |\n",
    "|     economic_item_event_day|  relation    |  represents how the entities share information. |\n",
    "\n",
    "\n",
    "The entity relationship model can be traduced to a more operative model which is the relational model which is shown below.  \n",
    "\n",
    "![relational model](./relational.png)\n",
    "\n",
    "The reasons for choosing the relation model are shown below: \n",
    "\n",
    "* Simplicity \n",
    "* We can guarantee the data integrity which is an assurance of the accuracy and consistency of the data over its entire life-cycle.\n",
    "\n",
    "From the relational model we can go on to write the DDL in PostgreSQL which is shown below. \n",
    "\n",
    "```sql\n",
    "\n",
    "CREATE TABLE economic_item(\n",
    "name varchar(100) not null primary key, \n",
    "description text default null\n",
    ");\n",
    "\n",
    "\n",
    "CREATE TABLE day_of_interest( \n",
    "day date not null primary key, \n",
    "comment text default null  \n",
    "); \n",
    "\n",
    "\n",
    "CREATE TABLE event(\n",
    "name varchar(100) not null primary key, \n",
    "description text  default null  \n",
    "); \n",
    "\n",
    "\n",
    "CREATE TABLE economic_item_event_day(\n",
    "name_economic_item varchar(100) not null,\n",
    "day_of_interest date not null, \n",
    "name_event varchar(100) not null,\n",
    "count_economic_item integer not null, \n",
    "count_event integer not null, \n",
    "PRIMARY KEY(name_economic_item, day_of_interest, name_event), \n",
    "   FOREIGN KEY(name_economic_item) \n",
    "      REFERENCES economic_item(name), \n",
    "   FOREIGN KEY(day_of_interest) \n",
    "      REFERENCES day_of_interest(day), \n",
    "   FOREIGN KEY(name_event) \n",
    "      REFERENCES event(name) \n",
    "); \n",
    "\n",
    "```\n",
    "\n",
    "Poner lo siguiente en otro lugar \n",
    "* We can guarantee entity integrity through primary key\n",
    "* We can guarantee referential integrity through foreign key\n",
    "* Ftom  \n",
    "\n",
    "\n",
    "#### 3.2 Mapping Out Data Pipelines\n",
    "List the steps necessary to pipeline the data into the chosen data model"
   ]
  },
  {
   "cell_type": "markdown",
   "metadata": {},
   "source": [
    "From the step 2 we can insert the cleaned data into the model as follows: \n",
    "\n",
    "* Populate the economic_item table with the values: yellow_taxi, green_taxi, uber_taxi, and lyft_taxi.\n",
    "* Populate the day_of_interest  with dates from 2020-02-29 to 2020-06-30. \n",
    "* Populate the event table with the value COVID-19.\n",
    "* Populate the economic_item_event_day table combining the information of the pyspark dataframes: df_spark_yellow_taxi_count, df_spark_green_taxi_count, df_spark_uber_taxi_count, and df_spark_lyft_taxi_count."
   ]
  },
  {
   "cell_type": "markdown",
   "metadata": {},
   "source": [
    "### Step 4: Run Pipelines to Model the Data \n",
    "#### 4.1 Create the data model\n",
    "Build the data pipelines to create the data model."
   ]
  },
  {
   "cell_type": "markdown",
   "metadata": {},
   "source": [
    "In order to build the etl pipeline to create the data model, the following python script was created:\n",
    "\n",
    "[ETL Pipeline]('https://raw.githubusercontent.com/ricardoues/data-engineering-capstone-project/master/etl.py')"
   ]
  },
  {
   "cell_type": "markdown",
   "metadata": {},
   "source": [
    "#### 4.2 Data Quality Checks\n",
    "Explain the data quality checks you'll perform to ensure the pipeline ran as expected. These could include:\n",
    " * Integrity constraints on the relational database (e.g., unique key, data type, etc.)\n",
    " * Unit tests for the scripts to ensure they are doing the right thing\n",
    " * Source/Count checks to ensure completeness\n",
    " \n",
    "In order to guarantee integrity in the data we define primary and foreign keys in the SQLite database. The DDL is shown below:\n",
    "\n",
    "\n",
    "```sql\n",
    "\n",
    "\n",
    "CREATE TABLE economic_item(\n",
    "name varchar(100) not null primary key, \n",
    "description text default null\n",
    ");\n",
    "\n",
    "\n",
    "CREATE TABLE day_of_interest( \n",
    "day date not null primary key, \n",
    "comment text default null  \n",
    "); \n",
    "\n",
    "\n",
    "CREATE TABLE event(\n",
    "name varchar(100) not null primary key, \n",
    "description text  default null  \n",
    "); \n",
    "\n",
    "\n",
    "CREATE TABLE economic_item_event_day(\n",
    "name_economic_item varchar(100) not null,\n",
    "day_of_interest date not null, \n",
    "name_event varchar(100) not null,\n",
    "count_economic_item integer not null, \n",
    "count_event integer not null, \n",
    "PRIMARY KEY(name_economic_item, day_of_interest, name_event), \n",
    "   FOREIGN KEY(name_economic_item) \n",
    "      REFERENCES economic_item(name), \n",
    "   FOREIGN KEY(day_of_interest) \n",
    "      REFERENCES day_of_interest(day), \n",
    "   FOREIGN KEY(name_event) \n",
    "      REFERENCES event(name) \n",
    "); \n",
    "\n",
    "```\n",
    "\n",
    "Moreover in the etl pipelie we defined a try catch block for the purpose of catching any error. Also we created the following validation rules in order to guarantee consistency in the data:\n",
    "\n",
    "\n",
    "```python\n",
    "\n",
    " if not (yellow.shape[0] == green.shape[0] == uber.shape[0] == lyft.shape[0] == covid.shape[0]):\n",
    "    raise Exception(\"The number of rows in the dataframes that represents taxi and covid data  must be equals.\")\n",
    "\n",
    "if yellow.shape[0] == 0:\n",
    "    raise Exception(\"The number of rows must be greater than zero\") \n",
    "\n",
    "```\n"
   ]
  },
  {
   "cell_type": "markdown",
   "metadata": {},
   "source": [
    "#### 4.3 Data dictionary \n",
    "Create a data dictionary for your data model. For each field, provide a brief description of what the data is and where it came from. You can include the data dictionary in the notebook or in a separate file."
   ]
  },
  {
   "cell_type": "markdown",
   "metadata": {},
   "source": [
    "Table: economic_item \n",
    "\n",
    "| Field       | Description                                                          |\n",
    "|-------------|----------------------------------------------------------------------|\n",
    "| Name        | The name of the economic item: yellow taxi, green taxi, uber and lyft. |\n",
    "| Description | Additional information.                                              |"
   ]
  },
  {
   "cell_type": "markdown",
   "metadata": {},
   "source": [
    "Table day_of_interest\n",
    "\n",
    "| Field       | Description                                                          |\n",
    "|-------------|----------------------------------------------------------------------|\n",
    "| day        | The day of interest \n",
    "| comment | Additional information.                                              |"
   ]
  },
  {
   "cell_type": "markdown",
   "metadata": {},
   "source": [
    "Table event \n",
    "\n",
    "| Field       | Description                                                          |\n",
    "|-------------|----------------------------------------------------------------------|\n",
    "| name        | The event of interest in our case is COVID-19 but we can add other events. \n",
    "| description | Additional information.                                              |\n"
   ]
  },
  {
   "cell_type": "markdown",
   "metadata": {},
   "source": [
    "Table economic_item_event_day \n",
    "\n",
    "| Field       | Description                                                          |\n",
    "|-------------|----------------------------------------------------------------------|\n",
    "| name_economic_item        | The name of the economic item: yellow taxi, green taxi, uber, and lyft.    |  \n",
    "| day_of_interest |  The day of interest.  |\n",
    "| name_event        |  The event of interest.  |\n",
    "| count_economic_item |   In our case this is the number of taxis trips.  |\n",
    "| count_event       |  In our case this is the number of covid cases. |\n"
   ]
  },
  {
   "cell_type": "markdown",
   "metadata": {},
   "source": [
    "One advantage of this data model is that we can take account other economic activities and events. "
   ]
  },
  {
   "cell_type": "markdown",
   "metadata": {},
   "source": [
    "#### Step 5: Complete Project Write Up\n",
    "* Clearly state the rationale for the choice of tools and technologies for the project.\n",
    "* Propose how often the data should be updated and why.\n",
    "* Write a description of how you would approach the problem differently under the following scenarios:\n",
    " * The data was increased by 100x.\n",
    " * The data populates a dashboard that must be updated on a daily basis by 7am every day.\n",
    " * The database needed to be accessed by 100+ people."
   ]
  },
  {
   "cell_type": "markdown",
   "metadata": {},
   "source": [
    "**Clearly state the rationale for the choice of tools and technologies for the project**: Apache Spark is a good choice for this project in order to treat with the raw data which is substantial (4.3 GB). The reasons for choosing SQLite are easier to install and use."
   ]
  },
  {
   "cell_type": "markdown",
   "metadata": {},
   "source": [
    "**Propose how often the data should be updated and why.**: According to the following web site:\n",
    "\n",
    "[TLC Trip Record Data](https://www1.nyc.gov/site/tlc/about/tlc-trip-record-data.page)\n",
    "\n",
    "\n",
    "From the data published in September 5 it turns out that the data goes up to June. In order to answer question about the economic activity in the taxi sector we think that the data should be updated each month since according to accenture: \"consumers attitudes, behaviors and purchasing habits are changing—and many of these new ways will remain post-pandemic\" that is why we need a long period of time to observe changes in the patterns of taxi trips."
   ]
  },
  {
   "cell_type": "markdown",
   "metadata": {},
   "source": [
    "**Write a description of how you would approach the problem differently under the following scenarios**:\n",
    "    \n",
    "    "
   ]
  },
  {
   "cell_type": "markdown",
   "metadata": {},
   "source": [
    "* The data was increased by 100x\n",
    "\n",
    "In this case we can need more workers in Apache Spark."
   ]
  },
  {
   "cell_type": "markdown",
   "metadata": {},
   "source": [
    "* The data populates a dashboard that must be updated on a daily basis by 7am every day.\n",
    "\n",
    "In this situation we need to take this actions:\n",
    "\n",
    "1. Use Apache airflow to run daily updates in the data \n",
    "2. Use PostgreSQL or Redshift depending of web traffic\n"
   ]
  },
  {
   "cell_type": "markdown",
   "metadata": {},
   "source": [
    "* The database needed to be accessed by 100+ people.\n",
    "\n",
    "In this case it is preferable to use Redshift since that this dataware technologies scales well."
   ]
  },
  {
   "cell_type": "code",
   "execution_count": null,
   "metadata": {},
   "outputs": [],
   "source": []
  },
  {
   "cell_type": "markdown",
   "metadata": {},
   "source": [
    "#### References \n",
    "\n",
    "https://www1.nyc.gov/assets/tlc/downloads/pdf/data_dictionary_trip_records_yellow.pdf\n",
    "\n",
    "https://www1.nyc.gov/assets/tlc/downloads/pdf/data_dictionary_trip_records_green.pdf\n",
    "\n",
    "https://www1.nyc.gov/assets/tlc/downloads/pdf/data_dictionary_trip_records_hvfhs.pdf\n",
    "\n",
    "https://www.freetutes.com/systemanalysis/sa8-integrity-rules-relational-database-model.html\n",
    "\n",
    "https://en.wikipedia.org/wiki/Data_integrity\n",
    "\n",
    "https://en.wikipedia.org/wiki/Entity–relationship_model\n",
    "\n",
    "https://www.sqlite.org/whentouse.html\n",
    "\n",
    "https://www.accenture.com/us-en/insights/consumer-goods-services/coronavirus-consumer-behavior-research"
   ]
  },
  {
   "cell_type": "code",
   "execution_count": null,
   "metadata": {},
   "outputs": [],
   "source": []
  }
 ],
 "metadata": {
  "kernelspec": {
   "display_name": "PySpark",
   "language": "",
   "name": "pysparkkernel"
  },
  "language_info": {
   "codemirror_mode": {
    "name": "python",
    "version": 2
   },
   "mimetype": "text/x-python",
   "name": "pyspark",
   "pygments_lexer": "python2"
  }
 },
 "nbformat": 4,
 "nbformat_minor": 4
}
